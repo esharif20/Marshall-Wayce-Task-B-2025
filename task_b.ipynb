{
  "cells": [
    {
      "cell_type": "markdown",
      "metadata": {
        "id": "oHoqqKTLc0xt"
      },
      "source": [
        "# Task B: Stack Overflow Developer Survey 2025 Analytics\n",
        "\n",
        "You are provided with the latest developer survey results from Stack Overflow. Your task is to perform analytics on the survey to extract insights about the programming industry."
      ]
    },
    {
      "cell_type": "markdown",
      "metadata": {
        "id": "4xe7JbQPc0xu"
      },
      "source": [
        "## Setup\n",
        "If you are in google colab, you should just be able to run the cell below. Otherwise find the conda `environment.yml` file provided with all the dependencies."
      ]
    },
    {
      "cell_type": "code",
      "execution_count": 2,
      "metadata": {
        "colab": {
          "base_uri": "https://localhost:8080/"
        },
        "id": "Yv78cBOnc0xu",
        "outputId": "274893a2-7547-479b-e857-87130236e96c"
      },
      "outputs": [
        {
          "output_type": "stream",
          "name": "stdout",
          "text": [
            "Requirement already satisfied: pandas in /usr/local/lib/python3.12/dist-packages (2.2.2)\n",
            "Requirement already satisfied: numpy>=1.26.0 in /usr/local/lib/python3.12/dist-packages (from pandas) (2.0.2)\n",
            "Requirement already satisfied: python-dateutil>=2.8.2 in /usr/local/lib/python3.12/dist-packages (from pandas) (2.9.0.post0)\n",
            "Requirement already satisfied: pytz>=2020.1 in /usr/local/lib/python3.12/dist-packages (from pandas) (2025.2)\n",
            "Requirement already satisfied: tzdata>=2022.7 in /usr/local/lib/python3.12/dist-packages (from pandas) (2025.2)\n",
            "Requirement already satisfied: six>=1.5 in /usr/local/lib/python3.12/dist-packages (from python-dateutil>=2.8.2->pandas) (1.17.0)\n"
          ]
        }
      ],
      "source": [
        "%pip install pandas\n",
        "import pandas as pd"
      ]
    },
    {
      "cell_type": "markdown",
      "metadata": {
        "id": "sE_Fn4mNc0xu"
      },
      "source": [
        "## Reading the data\n",
        "\n",
        "Find a utility class below to read the data for you."
      ]
    },
    {
      "cell_type": "code",
      "execution_count": 3,
      "metadata": {
        "id": "o_MZtq7wc0xu"
      },
      "outputs": [],
      "source": [
        "import csv\n",
        "from typing import List, Dict, Any, Optional\n",
        "from pathlib import Path\n",
        "\n",
        "RESPONSE_ID_FIELD_NAME = \"ResponseId\"\n",
        "QUESTION_ID_FIELD_NAME = \"qid\"\n",
        "\n",
        "class SurveyDataReader:\n",
        "    \"\"\"\n",
        "    Read and process Stack Overflow Developer Survey data.\n",
        "    \"\"\"\n",
        "\n",
        "    def __init__(self, schema_file: str, data_file: str):\n",
        "        self.schema = self._parse_schema(schema_file)\n",
        "        self.data = self._parse_data(data_file)\n",
        "\n",
        "    def _parse_schema(self, schema_file: str) -> List[Dict[str, str]]:\n",
        "        schema = []\n",
        "        schema_path = Path(schema_file).resolve()\n",
        "        with open(schema_path, mode=\"r\") as file:\n",
        "            reader = csv.DictReader(file)\n",
        "            schema = [row for row in reader]\n",
        "        return schema\n",
        "\n",
        "    def _parse_data(self, data_file: str) -> List[Dict[str, Any]]:\n",
        "        data = []\n",
        "        data_path = Path(data_file).resolve()\n",
        "        with open(data_path, mode=\"r\") as file:\n",
        "            reader = csv.DictReader(file)\n",
        "            data = [row for row in reader]\n",
        "        return data\n",
        "\n",
        "    def get_schema(self) -> List[Dict[str, str]]:\n",
        "        return self.schema\n",
        "\n",
        "    def get_data(self) -> List[Dict[str, Any]]:\n",
        "        return self.data\n",
        "\n",
        "    def get_question_by_id(self, qid: str) -> Optional[Dict[str, str]]:\n",
        "        for question in self.schema:\n",
        "            if question[QUESTION_ID_FIELD_NAME] == qid:\n",
        "                return question\n",
        "        return None\n",
        "\n",
        "    def get_responses_for_question(self, qname: str) -> List[Any]:\n",
        "        return [response[qname] for response in self.data if qname in response]\n",
        "\n",
        "    def get_response_by_id(self, response_id: str | int) -> Optional[Dict[str, Any]]:\n",
        "        response_id_str = str(response_id)\n",
        "        for response in self.data:\n",
        "            if response[RESPONSE_ID_FIELD_NAME] == response_id_str:\n",
        "                return response\n",
        "        return None"
      ]
    },
    {
      "cell_type": "markdown",
      "metadata": {
        "id": "cKnFkZcNc0xv"
      },
      "source": [
        "## Getting to know the data reader"
      ]
    },
    {
      "cell_type": "code",
      "execution_count": 9,
      "metadata": {
        "id": "UT_JXIqVc0xv"
      },
      "outputs": [],
      "source": [
        "# Use your absolute paths in Jupyter/Colab\n",
        "SCHEMA_PATH = \"/survey_results_schema.csv\"\n",
        "DATA_PATH   = \"/survey_results_public_cleaned.csv\"\n",
        "\n",
        "reader = SurveyDataReader(SCHEMA_PATH, DATA_PATH)\n"
      ]
    },
    {
      "cell_type": "code",
      "source": [
        "from google.colab import drive\n",
        "drive.mount('/content/drive')"
      ],
      "metadata": {
        "colab": {
          "base_uri": "https://localhost:8080/"
        },
        "id": "PEsaqOn9eahz",
        "outputId": "233f1b50-7cd5-4313-e29f-f9a666c9aa9f"
      },
      "execution_count": 10,
      "outputs": [
        {
          "output_type": "stream",
          "name": "stdout",
          "text": [
            "Drive already mounted at /content/drive; to attempt to forcibly remount, call drive.mount(\"/content/drive\", force_remount=True).\n"
          ]
        }
      ]
    },
    {
      "cell_type": "code",
      "execution_count": 11,
      "metadata": {
        "colab": {
          "base_uri": "https://localhost:8080/"
        },
        "id": "i-rZUvE1c0xv",
        "outputId": "ee29ec92-ee17-4a97-d04c-239f622f6d0f"
      },
      "outputs": [
        {
          "output_type": "stream",
          "name": "stdout",
          "text": [
            "[{'\\ufeff\"qid\"': 'QID18', 'qname': 'TechEndorse_1', 'question': 'What attracts you to a technology or causes you to endorse it (most to least important)?', 'type': 'RO', 'sub': 'AI integration or AI Agent capabilities', 'sq_id': '1'}, {'\\ufeff\"qid\"': 'QID18', 'qname': 'TechEndorse_2', 'question': 'What attracts you to a technology or causes you to endorse it (most to least important)?', 'type': 'RO', 'sub': 'Easy-to-use API', 'sq_id': '2'}, {'\\ufeff\"qid\"': 'QID18', 'qname': 'TechEndorse_3', 'question': 'What attracts you to a technology or causes you to endorse it (most to least important)?', 'type': 'RO', 'sub': 'Robust and complete API', 'sq_id': '3'}, {'\\ufeff\"qid\"': 'QID18', 'qname': 'TechEndorse_4', 'question': 'What attracts you to a technology or causes you to endorse it (most to least important)?', 'type': 'RO', 'sub': 'Customizable and manageable codebase', 'sq_id': '4'}, {'\\ufeff\"qid\"': 'QID18', 'qname': 'TechEndorse_5', 'question': 'What attracts you to a technology or causes you to endorse it (most to least important)?', 'type': 'RO', 'sub': 'Reputation for quality', 'sq_id': '5'}, {'\\ufeff\"qid\"': 'QID18', 'qname': 'TechEndorse_6', 'question': 'What attracts you to a technology or causes you to endorse it (most to least important)?', 'type': 'RO', 'sub': 'Connected to an open-source project', 'sq_id': '6'}, {'\\ufeff\"qid\"': 'QID18', 'qname': 'TechEndorse_7', 'question': 'What attracts you to a technology or causes you to endorse it (most to least important)?', 'type': 'RO', 'sub': 'Good brand and public image', 'sq_id': '7'}, {'\\ufeff\"qid\"': 'QID18', 'qname': 'TechEndorse_8', 'question': 'What attracts you to a technology or causes you to endorse it (most to least important)?', 'type': 'RO', 'sub': 'Reliability and low latency', 'sq_id': '8'}, {'\\ufeff\"qid\"': 'QID18', 'qname': 'TechEndorse_9', 'question': 'What attracts you to a technology or causes you to endorse it (most to least important)?', 'type': 'RO', 'sub': 'Costs are manageable', 'sq_id': '9'}, {'\\ufeff\"qid\"': 'QID18', 'qname': 'TechEndorse_13', 'question': 'What attracts you to a technology or causes you to endorse it (most to least important)?', 'type': 'RO', 'sub': 'Other (please specify):', 'sq_id': '10'}, {'\\ufeff\"qid\"': 'QID18', 'qname': 'TechEndorse_13_TEXT', 'question': 'What attracts you to a technology or causes you to endorse it (most to least important)?', 'type': 'RO', 'sub': 'Other (please specify): - Text', 'sq_id': '13'}, {'\\ufeff\"qid\"': 'QID19', 'qname': 'TechOppose_1', 'question': 'What would turn you off or cause you to reject it (most to least important)?', 'type': 'RO', 'sub': 'Lack of AI or AI agents', 'sq_id': '1'}, {'\\ufeff\"qid\"': 'QID19', 'qname': 'TechOppose_2', 'question': 'What would turn you off or cause you to reject it (most to least important)?', 'type': 'RO', 'sub': 'Poor usability', 'sq_id': '2'}, {'\\ufeff\"qid\"': 'QID19', 'qname': 'TechOppose_3', 'question': 'What would turn you off or cause you to reject it (most to least important)?', 'type': 'RO', 'sub': 'Lack of or sub-par API', 'sq_id': '3'}, {'\\ufeff\"qid\"': 'QID19', 'qname': 'TechOppose_5', 'question': 'What would turn you off or cause you to reject it (most to least important)?', 'type': 'RO', 'sub': 'Inefficient or time-costly', 'sq_id': '4'}, {'\\ufeff\"qid\"': 'QID19', 'qname': 'TechOppose_7', 'question': 'What would turn you off or cause you to reject it (most to least important)?', 'type': 'RO', 'sub': 'Prohibitive pricing', 'sq_id': '5'}, {'\\ufeff\"qid\"': 'QID19', 'qname': 'TechOppose_9', 'question': 'What would turn you off or cause you to reject it (most to least important)?', 'type': 'RO', 'sub': 'Security or privacy concerns', 'sq_id': '6'}, {'\\ufeff\"qid\"': 'QID19', 'qname': 'TechOppose_11', 'question': 'What would turn you off or cause you to reject it (most to least important)?', 'type': 'RO', 'sub': 'Availability of better alternatives', 'sq_id': '7'}, {'\\ufeff\"qid\"': 'QID19', 'qname': 'TechOppose_13', 'question': 'What would turn you off or cause you to reject it (most to least important)?', 'type': 'RO', 'sub': 'Outdated or obsolete technology or features', 'sq_id': '8'}, {'\\ufeff\"qid\"': 'QID19', 'qname': 'TechOppose_16', 'question': 'What would turn you off or cause you to reject it (most to least important)?', 'type': 'RO', 'sub': 'Ethical concerns', 'sq_id': '9'}, {'\\ufeff\"qid\"': 'QID19', 'qname': 'TechOppose_15', 'question': 'What would turn you off or cause you to reject it (most to least important)?', 'type': 'RO', 'sub': 'Other (please specify):', 'sq_id': '10'}, {'\\ufeff\"qid\"': 'QID19', 'qname': 'TechOppose_15_TEXT', 'question': 'What would turn you off or cause you to reject it (most to least important)?', 'type': 'RO', 'sub': 'Other (please specify): - Text', 'sq_id': '15'}, {'\\ufeff\"qid\"': 'QID27', 'qname': 'JobSatPoints_1', 'question': 'Rank the following attributes of your current professional job in technology according to those that contribute your job satisfaction so that the first is the most important, last is least important (if you just started a new job, consider the job you spent the most time at in the past year):', 'type': 'RO', 'sub': 'Control over the level of quality in projects', 'sq_id': '1'}, {'\\ufeff\"qid\"': 'QID27', 'qname': 'JobSatPoints_2', 'question': 'Rank the following attributes of your current professional job in technology according to those that contribute your job satisfaction so that the first is the most important, last is least important (if you just started a new job, consider the job you spent the most time at in the past year):', 'type': 'RO', 'sub': 'Autonomy and trust to manage your own tasks', 'sq_id': '2'}, {'\\ufeff\"qid\"': 'QID27', 'qname': 'JobSatPoints_16', 'question': 'Rank the following attributes of your current professional job in technology according to those that contribute your job satisfaction so that the first is the most important, last is least important (if you just started a new job, consider the job you spent the most time at in the past year):', 'type': 'RO', 'sub': 'You like your manager', 'sq_id': '3'}, {'\\ufeff\"qid\"': 'QID27', 'qname': 'JobSatPoints_3', 'question': 'Rank the following attributes of your current professional job in technology according to those that contribute your job satisfaction so that the first is the most important, last is least important (if you just started a new job, consider the job you spent the most time at in the past year):', 'type': 'RO', 'sub': 'Collaboration and support from a team', 'sq_id': '4'}, {'\\ufeff\"qid\"': 'QID27', 'qname': 'JobSatPoints_4', 'question': 'Rank the following attributes of your current professional job in technology according to those that contribute your job satisfaction so that the first is the most important, last is least important (if you just started a new job, consider the job you spent the most time at in the past year):', 'type': 'RO', 'sub': 'Expert mentors', 'sq_id': '5'}, {'\\ufeff\"qid\"': 'QID27', 'qname': 'JobSatPoints_5', 'question': 'Rank the following attributes of your current professional job in technology according to those that contribute your job satisfaction so that the first is the most important, last is least important (if you just started a new job, consider the job you spent the most time at in the past year):', 'type': 'RO', 'sub': 'Opportunities to mentor and lead junior-level coworkers', 'sq_id': '6'}, {'\\ufeff\"qid\"': 'QID27', 'qname': 'JobSatPoints_6', 'question': 'Rank the following attributes of your current professional job in technology according to those that contribute your job satisfaction so that the first is the most important, last is least important (if you just started a new job, consider the job you spent the most time at in the past year):', 'type': 'RO', 'sub': 'Developing specialized expertise', 'sq_id': '7'}, {'\\ufeff\"qid\"': 'QID27', 'qname': 'JobSatPoints_7', 'question': 'Rank the following attributes of your current professional job in technology according to those that contribute your job satisfaction so that the first is the most important, last is least important (if you just started a new job, consider the job you spent the most time at in the past year):', 'type': 'RO', 'sub': 'Solving real-world problems', 'sq_id': '8'}, {'\\ufeff\"qid\"': 'QID27', 'qname': 'JobSatPoints_8', 'question': 'Rank the following attributes of your current professional job in technology according to those that contribute your job satisfaction so that the first is the most important, last is least important (if you just started a new job, consider the job you spent the most time at in the past year):', 'type': 'RO', 'sub': 'Job stability and career growth with a single employer', 'sq_id': '9'}, {'\\ufeff\"qid\"': 'QID27', 'qname': 'JobSatPoints_9', 'question': 'Rank the following attributes of your current professional job in technology according to those that contribute your job satisfaction so that the first is the most important, last is least important (if you just started a new job, consider the job you spent the most time at in the past year):', 'type': 'RO', 'sub': 'Innovation through solving challenging and complex problems', 'sq_id': '10'}, {'\\ufeff\"qid\"': 'QID27', 'qname': 'JobSatPoints_10', 'question': 'Rank the following attributes of your current professional job in technology according to those that contribute your job satisfaction so that the first is the most important, last is least important (if you just started a new job, consider the job you spent the most time at in the past year):', 'type': 'RO', 'sub': 'Working with new technologies and tools', 'sq_id': '11'}, {'\\ufeff\"qid\"': 'QID27', 'qname': 'JobSatPoints_11', 'question': 'Rank the following attributes of your current professional job in technology according to those that contribute your job satisfaction so that the first is the most important, last is least important (if you just started a new job, consider the job you spent the most time at in the past year):', 'type': 'RO', 'sub': 'Competitive pay and benefits', 'sq_id': '12'}, {'\\ufeff\"qid\"': 'QID27', 'qname': 'JobSatPoints_13', 'question': 'Rank the following attributes of your current professional job in technology according to those that contribute your job satisfaction so that the first is the most important, last is least important (if you just started a new job, consider the job you spent the most time at in the past year):', 'type': 'RO', 'sub': 'Recognition from peers for your work', 'sq_id': '13'}, {'\\ufeff\"qid\"': 'QID27', 'qname': 'JobSatPoints_14', 'question': 'Rank the following attributes of your current professional job in technology according to those that contribute your job satisfaction so that the first is the most important, last is least important (if you just started a new job, consider the job you spent the most time at in the past year):', 'type': 'RO', 'sub': 'Recognition from leadership for your work', 'sq_id': '14'}, {'\\ufeff\"qid\"': 'QID27', 'qname': 'JobSatPoints_15', 'question': 'Rank the following attributes of your current professional job in technology according to those that contribute your job satisfaction so that the first is the most important, last is least important (if you just started a new job, consider the job you spent the most time at in the past year):', 'type': 'RO', 'sub': 'Other (please specify):', 'sq_id': '15'}, {'\\ufeff\"qid\"': 'QID27', 'qname': 'JobSatPoints_15_TEXT', 'question': 'Rank the following attributes of your current professional job in technology according to those that contribute your job satisfaction so that the first is the most important, last is least important (if you just started a new job, consider the job you spent the most time at in the past year):', 'type': 'RO', 'sub': 'Other (please specify): - Text', 'sq_id': '15'}, {'\\ufeff\"qid\"': 'QID76', 'qname': 'SO_Actions_1', 'question': 'When visiting Stack Overflow, which following activities are you most interested in?  Please rank the following so the first activity is what most interests you and last is your least interested activity.', 'type': 'RO', 'sub': 'Browse content related to Q&A posts I recently viewed', 'sq_id': '1'}, {'\\ufeff\"qid\"': 'QID76', 'qname': 'SO_Actions_16', 'question': 'When visiting Stack Overflow, which following activities are you most interested in?  Please rank the following so the first activity is what most interests you and last is your least interested activity.', 'type': 'RO', 'sub': 'Read and/or vote on comments for a Question or Answer I am interested in', 'sq_id': '2'}, {'\\ufeff\"qid\"': 'QID76', 'qname': 'SO_Actions_3', 'question': 'When visiting Stack Overflow, which following activities are you most interested in?  Please rank the following so the first activity is what most interests you and last is your least interested activity.', 'type': 'RO', 'sub': 'Bookmark posts to look at later', 'sq_id': '3'}, {'\\ufeff\"qid\"': 'QID76', 'qname': 'SO_Actions_4', 'question': 'When visiting Stack Overflow, which following activities are you most interested in?  Please rank the following so the first activity is what most interests you and last is your least interested activity.', 'type': 'RO', 'sub': 'Directly open a Q&A post via search, documentation or a peer', 'sq_id': '4'}, {'\\ufeff\"qid\"': 'QID76', 'qname': 'SO_Actions_5', 'question': 'When visiting Stack Overflow, which following activities are you most interested in?  Please rank the following so the first activity is what most interests you and last is your least interested activity.', 'type': 'RO', 'sub': 'Ask a question', 'sq_id': '5'}, {'\\ufeff\"qid\"': 'QID76', 'qname': 'SO_Actions_6', 'question': 'When visiting Stack Overflow, which following activities are you most interested in?  Please rank the following so the first activity is what most interests you and last is your least interested activity.', 'type': 'RO', 'sub': 'Answer a question', 'sq_id': '6'}, {'\\ufeff\"qid\"': 'QID76', 'qname': 'SO_Actions_9', 'question': 'When visiting Stack Overflow, which following activities are you most interested in?  Please rank the following so the first activity is what most interests you and last is your least interested activity.', 'type': 'RO', 'sub': 'Comment on Q&A posts', 'sq_id': '7'}, {'\\ufeff\"qid\"': 'QID76', 'qname': 'SO_Actions_7', 'question': 'When visiting Stack Overflow, which following activities are you most interested in?  Please rank the following so the first activity is what most interests you and last is your least interested activity.', 'type': 'RO', 'sub': 'Upvote/Downvote Q&A posts', 'sq_id': '8'}, {'\\ufeff\"qid\"': 'QID76', 'qname': 'SO_Actions_10', 'question': 'When visiting Stack Overflow, which following activities are you most interested in?  Please rank the following so the first activity is what most interests you and last is your least interested activity.', 'type': 'RO', 'sub': 'Use discussion or chat feature', 'sq_id': '9'}, {'\\ufeff\"qid\"': 'QID76', 'qname': 'SO_Actions_15', 'question': 'When visiting Stack Overflow, which following activities are you most interested in?  Please rank the following so the first activity is what most interests you and last is your least interested activity.', 'type': 'RO', 'sub': 'Other (write in):', 'sq_id': '10'}, {'\\ufeff\"qid\"': 'QID76', 'qname': 'SO_Actions_15_TEXT', 'question': 'When visiting Stack Overflow, which following activities are you most interested in?  Please rank the following so the first activity is what most interests you and last is your least interested activity.', 'type': 'RO', 'sub': 'Other (write in): - Text', 'sq_id': '15'}, {'\\ufeff\"qid\"': 'QID3', 'qname': 'MainBranch', 'question': 'Are you someone who writes code? Please select one of the following options that best describes you today.', 'type': 'MC', 'sub': 'NA', 'sq_id': 'NA'}, {'\\ufeff\"qid\"': 'QID4', 'qname': 'Age', 'question': 'What is your age?', 'type': 'MC', 'sub': 'NA', 'sq_id': 'NA'}, {'\\ufeff\"qid\"': 'QID9', 'qname': 'EdLevel', 'question': 'Which of the following best describes the highest level of formal education that you’ve completed? ', 'type': 'MC', 'sub': 'NA', 'sq_id': 'NA'}, {'\\ufeff\"qid\"': 'QID7', 'qname': 'Employment', 'question': 'Which of the following best describes your current employment status?<br>', 'type': 'MC', 'sub': 'NA', 'sq_id': 'NA'}, {'\\ufeff\"qid\"': 'QID8', 'qname': 'EmploymentAddl', 'question': 'Which of the following <strong>additional</strong> activities are you currently engaged in?', 'type': 'MC', 'sub': 'NA', 'sq_id': 'NA'}, {'\\ufeff\"qid\"': 'QID14', 'qname': 'WorkExp', 'question': \"How many years of professional work experience do you have? Please round to the nearest whole number, excluding any decimal points.  If your answer is '0', please leave blank.\", 'type': 'TE', 'sub': 'NA', 'sq_id': 'NA'}, {'\\ufeff\"qid\"': 'QID10', 'qname': 'LearnCodeChoose', 'question': 'Did you begin learning to code or learn a new coding skill/programming language in the last year?', 'type': 'MC', 'sub': 'NA', 'sq_id': 'NA'}, {'\\ufeff\"qid\"': 'QID11', 'qname': 'LearnCode', 'question': 'How did you learn to code in the past year? Select all that apply.', 'type': 'MC', 'sub': 'NA', 'sq_id': 'NA'}, {'\\ufeff\"qid\"': 'QID12', 'qname': 'LearnCodeAI', 'question': 'Did you spend time in the last year learning AI programming or AI-enabled tooling on your own or at work?', 'type': 'MC', 'sub': 'NA', 'sq_id': 'NA'}, {'\\ufeff\"qid\"': 'QID32', 'qname': 'AILearnHow', 'question': 'How did you learn to code for AI in the past year? Select all that apply.', 'type': 'MC', 'sub': 'NA', 'sq_id': 'NA'}, {'\\ufeff\"qid\"': 'QID13', 'qname': 'YearsCode', 'question': 'Including any education, how many years have you been coding in total?  Please round to the nearest whole number, excluding any decimal points.', 'type': 'TE', 'sub': 'NA', 'sq_id': 'NA'}, {'\\ufeff\"qid\"': 'QID15', 'qname': 'DevType', 'question': 'Which of the following describes your current job or the job you had for the most time in the past year?', 'type': 'MC', 'sub': 'NA', 'sq_id': 'NA'}, {'\\ufeff\"qid\"': 'QID16', 'qname': 'OrgSize', 'question': 'Approximately how many people are employed by your employer?  This should only include your primary company, and if there was more than one employer please consider the one you spent most of your time working for in the past year.', 'type': 'MC', 'sub': 'NA', 'sq_id': 'NA'}, {'\\ufeff\"qid\"': 'QID23', 'qname': 'ICorPM', 'question': 'Are you an individual contributor or people manager?', 'type': 'MC', 'sub': 'NA', 'sq_id': 'NA'}, {'\\ufeff\"qid\"': 'QID24', 'qname': 'RemoteWork', 'question': 'Which best describes your current work situation?', 'type': 'MC', 'sub': 'NA', 'sq_id': 'NA'}, {'\\ufeff\"qid\"': 'QID17', 'qname': 'PurchaseInfluence', 'question': 'Have you <strong>influenced or endorsed</strong> a new technology purchase at your organization or sole proprietor job in the past year?', 'type': 'MC', 'sub': 'NA', 'sq_id': 'NA'}, {'\\ufeff\"qid\"': 'QID33', 'qname': 'TechEndorseIntro', 'question': 'When you&rsquo;re in a position to <strong>influence or endorse a technology</strong>, whether at work, for school, or for a personal project you&rsquo;re responsible for, what features or attributes matter most when deciding to support a tool? What factors would be deal-breakers?<br />\\n<br />\\nFirst, select the context (work, school, personal project).  Then, rank the following features in order of importance.\\u200b\\u200b\\u200b\\u200b\\u200b\\u200b', 'type': 'MC', 'sub': 'NA', 'sq_id': 'NA'}, {'\\ufeff\"qid\"': 'QID25', 'qname': 'Industry', 'question': 'What industry do you work for in?', 'type': 'MC', 'sub': 'NA', 'sq_id': 'NA'}, {'\\ufeff\"qid\"': 'QID26', 'qname': 'JobSat', 'question': 'How satisfied are you in your current professional developer role?', 'type': 'MC', 'sub': 'NA', 'sq_id': 'NA'}, {'\\ufeff\"qid\"': 'QID28', 'qname': 'AIThreat', 'question': 'Do you believe AI is a threat to your current job?', 'type': 'MC', 'sub': 'NA', 'sq_id': 'NA'}, {'\\ufeff\"qid\"': 'QID29', 'qname': 'NewRole', 'question': 'Have you considered a career change or transitioned into a new role in the past year?', 'type': 'MC', 'sub': 'NA', 'sq_id': 'NA'}, {'\\ufeff\"qid\"': 'QID30', 'qname': 'ToolCountWork', 'question': 'For your <b>primary work role</b> (student, developer, or technologist) over the past year:\\n<br><br>Excluding general operating systems (like Windows or macOS) and web browsers, <b>how many distinct software applications or platforms</b> did you regularly use to create, analyze, manage, or share information in order to do your job?\\n\\nPlease enter a whole number below with no punctuation, or leave blank.', 'type': 'TE', 'sub': 'NA', 'sq_id': 'NA'}, {'\\ufeff\"qid\"': 'QID31', 'qname': 'ToolCountPersonal', 'question': '<b></b>For your <b>side projects or other personal work</b> over the past year (focus on the project you spent the most time on if applicable):\\n<br><br>Excluding general operating systems and web browsers, how many <b>distinct software applications or platforms</b> did you regularly use to do your job? Please enter a whole number below with no punctuation, or leave blank.', 'type': 'TE', 'sub': 'NA', 'sq_id': 'NA'}, {'\\ufeff\"qid\"': 'QID20', 'qname': 'Country', 'question': 'Where do you live?', 'type': 'MC', 'sub': 'NA', 'sq_id': 'NA'}, {'\\ufeff\"qid\"': 'QID21', 'qname': 'Currency', 'question': \"Which currency do you use day-to-day? If your answer is complicated, please pick the one you're most comfortable estimating in.\", 'type': 'MC', 'sub': 'NA', 'sq_id': 'NA'}, {'\\ufeff\"qid\"': 'QID22', 'qname': 'CompTotal', 'question': 'What is your current total <b>annual</b> compensation (salary, bonuses, and perks, before taxes and deductions) in terms of your day-to-day currency?  Please enter a whole number in the box below, without any punctuation.  If you are paid hourly, please estimate an equivalent yearly salary. If you prefer not to answer, please leave the box empty. ', 'type': 'TE', 'sub': 'NA', 'sq_id': 'NA'}, {'\\ufeff\"qid\"': 'QID44', 'qname': 'LanguageChoice', 'question': 'Did you work with programming, scripting and markup languages in the last year or do you plan to in the year to come?  Here, we are referring to anything you use that is conventionally referred to as code.', 'type': 'MC', 'sub': 'NA', 'sq_id': 'NA'}, {'\\ufeff\"qid\"': 'QID34', 'qname': 'Language', 'question': 'Which <b>programming, scripting, and markup languages</b> have you done extensive development work in over the past year, and which do you want to work in over the next year? (If you both worked with the language and want to continue to do so, please check both boxes in that row.)', 'type': 'Matrix', 'sub': 'NA', 'sq_id': 'NA'}, {'\\ufeff\"qid\"': 'QID51', 'qname': 'LanguagesHaveEntry', 'question': 'Was the programming language you use not listed above?  List below, separated by a comma and a space for each, the programming language(s) <strong>you used in the past year</strong>.', 'type': 'TE', 'sub': 'NA', 'sq_id': 'NA'}, {'\\ufeff\"qid\"': 'QID52', 'qname': 'LanguagesWantEntry', 'question': 'Was the programming language you want to use not listed above? List below, separated by a comma and a space for each, the programming language(s) <strong>you want to use next year</strong>.', 'type': 'TE', 'sub': 'NA', 'sq_id': 'NA'}, {'\\ufeff\"qid\"': 'QID45', 'qname': 'DatabaseChoice', 'question': 'Did you work with database environments in the last year or do you plan to in the year to come?  Here, we are referring to a system of managing structured data, mostly outside of your local machine.', 'type': 'MC', 'sub': 'NA', 'sq_id': 'NA'}, {'\\ufeff\"qid\"': 'QID35', 'qname': 'Database', 'question': 'Which <b>database environments </b>have you done extensive development work in over the past year, and which do you want to work in over the next year? (If you both worked with the database and want to continue to do so, please check both boxes in that row.)', 'type': 'Matrix', 'sub': 'NA', 'sq_id': 'NA'}, {'\\ufeff\"qid\"': 'QID54', 'qname': 'DatabaseHaveEntry', 'question': 'Was the database environment you use not listed above?  List below, separated by a comma and a space for each, what <strong>you used in the past year</strong>.', 'type': 'TE', 'sub': 'NA', 'sq_id': 'NA'}, {'\\ufeff\"qid\"': 'QID55', 'qname': 'DatabaseWantEntry', 'question': 'Was the database environment you want to use not listed above? List below, separated by a comma and a space for each, what <strong>you want to use next year</strong>.', 'type': 'TE', 'sub': 'NA', 'sq_id': 'NA'}, {'\\ufeff\"qid\"': 'QID46', 'qname': 'PlatformChoice', 'question': 'Did you work with cloud platforms, containerization/orchestration tools, package managers, build tools or infrastructure as code solutions in the last year or do you plan to in the year to come?  Here, we are referring to tooling that automates, manages, and scales the entire application lifecycle, often leveraging remote, virtualized resources.', 'type': 'MC', 'sub': 'NA', 'sq_id': 'NA'}, {'\\ufeff\"qid\"': 'QID36', 'qname': 'Platform', 'question': 'Which <b>cloud platforms, containerization/orchestration tools, package managers, build tools, and infrastructure as code solutions</b> have you done extensive development work in over the past year, and which do you want to work in over the next year? (If you both worked with the platform and want to continue to do so, please check both boxes in that row.)', 'type': 'Matrix', 'sub': 'NA', 'sq_id': 'NA'}, {'\\ufeff\"qid\"': 'QID56', 'qname': 'PlatformHaveEntry', 'question': 'Was the cloud platforms, containerization/orchestration tools, package managers, build tools, and infrastructure as code solutions you use not listed above?  List below, separated by a comma and a space for each, what <strong>you used in the past year</strong>.', 'type': 'TE', 'sub': 'NA', 'sq_id': 'NA'}, {'\\ufeff\"qid\"': 'QID57', 'qname': 'PlatformWantEntry', 'question': 'Was the cloud platforms, containerization/orchestration tools, package managers, build tools, and infrastructure as code solutions you want to use not listed above?  List below, separated by a comma and a space for each, what<strong>you want to use next year</strong>.', 'type': 'TE', 'sub': 'NA', 'sq_id': 'NA'}, {'\\ufeff\"qid\"': 'QID47', 'qname': 'WebframeChoice', 'question': 'Did you work with web frameworks and web technologies in the last year or do you plan to in the year to come?  Here, we are referring to technology that helps website and web apps materialize.', 'type': 'MC', 'sub': 'NA', 'sq_id': 'NA'}, {'\\ufeff\"qid\"': 'QID37', 'qname': 'Webframe', 'question': 'Which <b>web frameworks and web technologies</b> have you done extensive development work in over the past year, and which do you want to work in over the next year? (If you both worked with the framework and want to continue to do so, please check both boxes in that row.)', 'type': 'Matrix', 'sub': 'NA', 'sq_id': 'NA'}, {'\\ufeff\"qid\"': 'QID58', 'qname': 'WebframeHaveEntry', 'question': 'Were the web frameworks and web technologies you use not listed above?  List below, separated by a comma and a space for each, what <strong>you used in the past year</strong>.', 'type': 'TE', 'sub': 'NA', 'sq_id': 'NA'}, {'\\ufeff\"qid\"': 'QID59', 'qname': 'WebframeWantEntry', 'question': 'Were the web frameworks and web technologies you want to use not listed above?  List below, separated by a comma and a space for each, the what <strong>you want to use next year</strong>.', 'type': 'TE', 'sub': 'NA', 'sq_id': 'NA'}, {'\\ufeff\"qid\"': 'QID48', 'qname': 'DevEnvsChoice', 'question': 'Did you work with development environments or AI-enabled code editing tools in the last year or do you plan to in the year to come?  Here, we are referring to programs like VS Code that allow you to write, edit and save code easily and help you share code with other developers or AI agents.', 'type': 'MC', 'sub': 'NA', 'sq_id': 'NA'}, {'\\ufeff\"qid\"': 'QID38', 'qname': 'DevEnvs', 'question': 'Which <strong>development environments and AI-enabled code editing tools</strong> did you use regularly over the past year, and which do you want to work with over the next year? Please check all that apply.', 'type': 'Matrix', 'sub': 'NA', 'sq_id': 'NA'}, {'\\ufeff\"qid\"': 'QID60', 'qname': 'DevEnvHaveEntry', 'question': 'Was the developer environment or AI-enabled code editing tool you use not listed above?  List below, separated by a comma and a space for each, what<strong> you used in the past year</strong>.', 'type': 'TE', 'sub': 'NA', 'sq_id': 'NA'}, {'\\ufeff\"qid\"': 'QID61', 'qname': 'DevEnvWantEntry', 'question': 'Was the developer environment or AI-enabled code editing tool you want to use not listed above?  List below, separated by a comma and a space for each, what <strong>you want to use next year</strong>.', 'type': 'TE', 'sub': 'NA', 'sq_id': 'NA'}, {'\\ufeff\"qid\"': 'QID39', 'qname': 'SOTags', 'question': 'Which rising technology of the added as <b>new tag or tag subject area on Stack Overflow</b> in the last three years <strong>have you used</strong> regularly in the past year, and which do you <strong>want to work with</strong> over the next year? Please check all that apply.<br>\\n ', 'type': 'Matrix', 'sub': 'NA', 'sq_id': 'NA'}, {'\\ufeff\"qid\"': 'QID62', 'qname': 'SOTagsHaveEntry', 'question': 'Was the new tag on Stack Overflow (i.e. added in the last 2 - 3 years) you use not listed above?  List below, separated by a comma and a space for each, what <strong>you used in the past year</strong>.', 'type': 'TE', 'sub': 'NA', 'sq_id': 'NA'}, {'\\ufeff\"qid\"': 'QID63', 'qname': 'SOTagsWant Entry', 'question': 'Was the new tag on Stack Overflow (i.e. added in the last 2 - 3 years) you want to use not listed above?  List below, separated by a comma and a space for each, what <strong>you want to use next year</strong>.', 'type': 'TE', 'sub': 'NA', 'sq_id': 'NA'}, {'\\ufeff\"qid\"': 'QID40', 'qname': 'OpSys', 'question': 'What is the primary <b>operating system</b> in which you work? ', 'type': 'Matrix', 'sub': 'NA', 'sq_id': 'NA'}, {'\\ufeff\"qid\"': 'QID41', 'qname': 'OfficeStackAsync', 'question': 'Which <b>collaborative work management and/or code documentation tools</b> did you use regularly over the past year, and which do you want to work with over the next year? Select all that apply', 'type': 'Matrix', 'sub': 'NA', 'sq_id': 'NA'}, {'\\ufeff\"qid\"': 'QID64', 'qname': 'OfficeStackHaveEntry', 'question': 'Was the collaborative work management and/or code documentation tools you use not listed above?  List below, separated by a comma and a space for each, what you used in the past year.', 'type': 'TE', 'sub': 'NA', 'sq_id': 'NA'}, {'\\ufeff\"qid\"': 'QID65', 'qname': 'OfficeStackWantEntry', 'question': 'Was the collaborative work management and/or code documentation tools you want to use not listed above?  List below, separated by a comma and a space for each, what you used in the past year.', 'type': 'TE', 'sub': 'NA', 'sq_id': 'NA'}, {'\\ufeff\"qid\"': 'QID42', 'qname': 'CommPlatform', 'question': 'Which <b>community platforms</b> have you utilized considerably or consistently in the past year, and which would you like to use next year?  Select all that apply.', 'type': 'Matrix', 'sub': 'NA', 'sq_id': 'NA'}, {'\\ufeff\"qid\"': 'QID66', 'qname': 'CommPlatformHaveEntr', 'question': 'Was the community platform you use not listed above?  List below, separated by a comma and a space for each, what you used in the past year.', 'type': 'TE', 'sub': 'NA', 'sq_id': 'NA'}, {'\\ufeff\"qid\"': 'QID67', 'qname': 'CommPlatformWantEntr', 'question': 'Was the community platform you want to use not listed above?  List below, separated by a comma and a space for each, what you used in the past year.', 'type': 'TE', 'sub': 'NA', 'sq_id': 'NA'}, {'\\ufeff\"qid\"': 'QID50', 'qname': 'AIModelsChoice', 'question': 'Did you utilize or integrate specific Large Language Models (LLMs) to power your development tools or applications in the last year?  Here, we are referring to models like GPT-4, Llama, Claude, etc., within your development environments or solutions.', 'type': 'MC', 'sub': 'NA', 'sq_id': 'NA'}, {'\\ufeff\"qid\"': 'QID43', 'qname': 'AIModels', 'question': 'Which <b>LLM models for AI tools</b> have you used for development work in the past year, and which would you like to use next year?  Select all that apply.', 'type': 'Matrix', 'sub': 'NA', 'sq_id': 'NA'}, {'\\ufeff\"qid\"': 'QID68', 'qname': 'AIModelsHaveEntry', 'question': 'Was the LLM model for AI tools you use not listed above?  List below, separated by a comma and a space for each, what <strong>you used in the past year</strong>.', 'type': 'TE', 'sub': 'NA', 'sq_id': 'NA'}, {'\\ufeff\"qid\"': 'QID69', 'qname': 'AIModelsWantEntry', 'question': 'Was the LLM model for AI tools you want to use not listed above?  List below, separated by a comma and a space for each, what <strong>you want to use next year</strong>.', 'type': 'TE', 'sub': 'NA', 'sq_id': 'NA'}, {'\\ufeff\"qid\"': 'QID72', 'qname': 'SOAccount', 'question': 'Do you have a Stack Overflow account?', 'type': 'MC', 'sub': 'NA', 'sq_id': 'NA'}, {'\\ufeff\"qid\"': 'QID70', 'qname': 'SOVisitFreq', 'question': 'How frequently would you say you visit Stack Overflow?', 'type': 'MC', 'sub': 'NA', 'sq_id': 'NA'}, {'\\ufeff\"qid\"': 'QID71', 'qname': 'SODuration', 'question': 'How long have you used Stack Overflow?', 'type': 'MC', 'sub': 'NA', 'sq_id': 'NA'}, {'\\ufeff\"qid\"': 'QID73', 'qname': 'SOPartFreq', 'question': 'How frequently would you say you participate in Q&amp;A on Stack Overflow? By participate we mean ask, answer, and vote or comment on questions.', 'type': 'MC', 'sub': 'NA', 'sq_id': 'NA'}, {'\\ufeff\"qid\"': 'QID75', 'qname': 'SO_Dev_Content', 'question': 'Whether it be to solve a problem, for career growth or connecting with a community of developers, is there an alternative to the Q&amp;A format you prefer using today or would like to see on Stack Overflow to get what you need? Select all that apply.', 'type': 'MC', 'sub': 'NA', 'sq_id': 'NA'}, {'\\ufeff\"qid\"': 'QID77', 'qname': 'SOComm', 'question': 'Do you consider yourself a member of the Stack Overflow community?', 'type': 'MC', 'sub': 'NA', 'sq_id': 'NA'}, {'\\ufeff\"qid\"': 'QID97', 'qname': 'SOFriction', 'question': 'When you visit Stack Overflow, how often is it a result of encountering issues from AI or AI-enabled tools that require extra time or effort to fix, understand, or debug?', 'type': 'MC', 'sub': 'NA', 'sq_id': 'NA'}, {'\\ufeff\"qid\"': 'QID78', 'qname': 'AISelect', 'question': 'Do you currently use AI tools in your development process?', 'type': 'MC', 'sub': 'NA', 'sq_id': 'NA'}, {'\\ufeff\"qid\"': 'QID79', 'qname': 'AISent', 'question': 'How favorable is your stance on using AI tools as part of your development workflow?', 'type': 'MC', 'sub': 'NA', 'sq_id': 'NA'}, {'\\ufeff\"qid\"': 'QID80', 'qname': 'AIAcc', 'question': 'How much do you trust the accuracy of the output from AI tools as part of your development workflow?', 'type': 'MC', 'sub': 'NA', 'sq_id': 'NA'}, {'\\ufeff\"qid\"': 'QID81', 'qname': 'AIComplex', 'question': 'How well do the AI tools you use in your development workflow handle complex tasks?', 'type': 'MC', 'sub': 'NA', 'sq_id': 'NA'}, {'\\ufeff\"qid\"': 'QID82', 'qname': 'AITool', 'question': 'Which parts of your development workflow are you currently integrating into AI or using AI tools to accomplish or plan to use AI to accomplish over the next 3 - 5 years?  Please select one for each scenario.', 'type': 'Matrix', 'sub': 'NA', 'sq_id': 'NA'}, {'\\ufeff\"qid\"': 'QID99', 'qname': 'AIFrustration', 'question': 'When using AI tools, which of the following problems or frustrations have you encountered? Select all that apply.', 'type': 'MC', 'sub': 'NA', 'sq_id': 'NA'}, {'\\ufeff\"qid\"': 'QID84', 'qname': 'AIExplain', 'question': 'In your own words, is &quot;vibe coding&quot; part of your professional development work? For this question, we define vibe coding according to the <a href=\"https://en.wikipedia.org/wiki/Vibe_coding\" target=\"_blank\">Wikipedia definition</a>, the process of generating software from LLM prompts.', 'type': 'TE', 'sub': 'NA', 'sq_id': 'NA'}, {'\\ufeff\"qid\"': 'QID85', 'qname': 'AIAgents', 'question': 'Are you using AI agents in your work (development or otherwise)?  AI agents refer to autonomous software entities that can operate with minimal to no direct human intervention using artificial intelligence techniques.', 'type': 'MC', 'sub': 'NA', 'sq_id': 'NA'}, {'\\ufeff\"qid\"': 'QID83', 'qname': 'AIAgentChange', 'question': 'Have AI tools or AI agents changed how you complete development work in the past year?', 'type': 'MC', 'sub': 'NA', 'sq_id': 'NA'}, {'\\ufeff\"qid\"': 'QID86', 'qname': 'AIAgent_Uses', 'question': 'What industry purposes or specific tasks are you using AI agents in your development work? Select all that apply from both lists.', 'type': 'MC', 'sub': 'NA', 'sq_id': 'NA'}, {'\\ufeff\"qid\"': 'QID106', 'qname': 'AgentUsesGeneral', 'question': ' ', 'type': 'MC', 'sub': 'NA', 'sq_id': 'NA'}, {'\\ufeff\"qid\"': 'QID87', 'qname': 'AIAgentImpact', 'question': 'To what extent do you agree with the following statements regarding the impact of AI agents on your work as a developer?', 'type': 'Matrix', 'sub': 'NA', 'sq_id': 'NA'}, {'\\ufeff\"qid\"': 'QID88', 'qname': 'AIAgentChallenges', 'question': 'To what extent do you agree with the following statements regarding AI agents?', 'type': 'Matrix', 'sub': 'NA', 'sq_id': 'NA'}, {'\\ufeff\"qid\"': 'QID89', 'qname': 'AIAgentKnowledge', 'question': 'You indicated you use or develop AI agents as part of your development work.  Have you used any of the following tools for AI agent memory or data management in the past year?', 'type': 'MC', 'sub': 'NA', 'sq_id': 'NA'}, {'\\ufeff\"qid\"': 'QID107', 'qname': 'AIAgentKnowWrite', 'question': 'Was the tool or tools for AI agent orchestration or agent frameworks you used in the past year not listed above?  Please write them below separated by a comma and space if there are more than one.', 'type': 'TE', 'sub': 'NA', 'sq_id': 'NA'}, {'\\ufeff\"qid\"': 'QID90', 'qname': 'AIAgentOrchestration', 'question': 'You indicated you use or develop AI agents as part of your development work.  Have you used any of the following tools for AI agent orchestration or agent frameworks in the past year?', 'type': 'MC', 'sub': 'NA', 'sq_id': 'NA'}, {'\\ufeff\"qid\"': 'QID102', 'qname': 'AIAgentOrchWrite', 'question': 'Was the tool or tools for AI agent orchestration or agent frameworks you used in the past year not listed above?  Please write them below separated by a comma and space if there are more than one.', 'type': 'TE', 'sub': 'NA', 'sq_id': 'NA'}, {'\\ufeff\"qid\"': 'QID91', 'qname': 'AIAgentObserveSecure', 'question': 'You indicated you use or develop AI agents as part of your development work.  Have you used any of the following tools for AI agent observability, monitoring or security in the past year?', 'type': 'MC', 'sub': 'NA', 'sq_id': 'NA'}, {'\\ufeff\"qid\"': 'QID103', 'qname': 'AIAgentObsWrite', 'question': 'Was the tool or tools for AI agent observability, monitoring or security you used in the past year not listed above?  Please write them below separated by a comma and space if there are more than one.', 'type': 'TE', 'sub': 'NA', 'sq_id': 'NA'}, {'\\ufeff\"qid\"': 'QID92', 'qname': 'AIAgentExternal', 'question': 'You indicated you use or develop AI agents as part of your development work.  Have you used any of the following out-of-the-box agents, copilots or assistants?', 'type': 'MC', 'sub': 'NA', 'sq_id': 'NA'}, {'\\ufeff\"qid\"': 'QID104', 'qname': 'AIAgentExtWrite', 'question': 'Was the out-of-the-box agents, copilots or assistants you used in the past year not listed above?  Please write them below separated by a comma and space if there are more than one.', 'type': 'TE', 'sub': 'NA', 'sq_id': 'NA'}, {'\\ufeff\"qid\"': 'QID100', 'qname': 'AIHuman', 'question': 'In the future, if AI can do most coding tasks, in which situations would you still want to ask another person for help? Select all that apply.', 'type': 'MC', 'sub': 'NA', 'sq_id': 'NA'}, {'\\ufeff\"qid\"': 'QID93', 'qname': 'AIOpen', 'question': 'Looking ahead 3–5 years, what skills do you believe will remain valuable for developers even as AI tools become more capable? Please describe.', 'type': 'TE', 'sub': 'NA', 'sq_id': 'NA'}]\n",
            "2\n",
            "[{'version https://git-lfs.github.com/spec/v1': 'oid sha256:8509843f0f1bd591d2f72af26b5aba8969d56e288a5c7c2ee818b1d1d6ca58df'}, {'version https://git-lfs.github.com/spec/v1': 'size 116053190'}]\n"
          ]
        }
      ],
      "source": [
        "print(reader.get_schema())\n",
        "\n",
        "print(len(reader.get_data()))\n",
        "\n",
        "print(reader.get_data()[0:10]) # Be careful when trying to output the data, there's lots of it!"
      ]
    },
    {
      "cell_type": "markdown",
      "metadata": {
        "id": "knneZcocc0xv"
      },
      "source": [
        "## Questions"
      ]
    },
    {
      "cell_type": "markdown",
      "metadata": {
        "id": "AqjHL5q_c0xv"
      },
      "source": [
        "1. Print all of the questions asked in the developer survey"
      ]
    },
    {
      "cell_type": "code",
      "execution_count": 41,
      "metadata": {
        "colab": {
          "base_uri": "https://localhost:8080/"
        },
        "id": "BeFkOzhSc0xv",
        "outputId": "7b50627e-dab7-4949-b0c0-db010eaea60e"
      },
      "outputs": [
        {
          "output_type": "stream",
          "name": "stdout",
          "text": [
            "Total questions: 137\n",
            "1: What attracts you to a technology or causes you to endorse it (most to least important)?\n",
            "1: When visiting Stack Overflow, which following activities are you most interested in?  Please rank the following so the first activity is what most interests you and last is your least interested activity.\n",
            "1: Rank the following attributes of your current professional job in technology according to those that contribute your job satisfaction so that the first is the most important, last is least important (if you just started a new job, consider the job you spent the most time at in the past year):\n",
            "1: What would turn you off or cause you to reject it (most to least important)?\n",
            "10: Rank the following attributes of your current professional job in technology according to those that contribute your job satisfaction so that the first is the most important, last is least important (if you just started a new job, consider the job you spent the most time at in the past year):\n",
            "10: What attracts you to a technology or causes you to endorse it (most to least important)?\n",
            "10: What would turn you off or cause you to reject it (most to least important)?\n",
            "10: When visiting Stack Overflow, which following activities are you most interested in?  Please rank the following so the first activity is what most interests you and last is your least interested activity.\n",
            "11: Rank the following attributes of your current professional job in technology according to those that contribute your job satisfaction so that the first is the most important, last is least important (if you just started a new job, consider the job you spent the most time at in the past year):\n",
            "12: Rank the following attributes of your current professional job in technology according to those that contribute your job satisfaction so that the first is the most important, last is least important (if you just started a new job, consider the job you spent the most time at in the past year):\n",
            "13: Rank the following attributes of your current professional job in technology according to those that contribute your job satisfaction so that the first is the most important, last is least important (if you just started a new job, consider the job you spent the most time at in the past year):\n",
            "13: What attracts you to a technology or causes you to endorse it (most to least important)?\n",
            "14: Rank the following attributes of your current professional job in technology according to those that contribute your job satisfaction so that the first is the most important, last is least important (if you just started a new job, consider the job you spent the most time at in the past year):\n",
            "15: Rank the following attributes of your current professional job in technology according to those that contribute your job satisfaction so that the first is the most important, last is least important (if you just started a new job, consider the job you spent the most time at in the past year):\n",
            "15: What would turn you off or cause you to reject it (most to least important)?\n",
            "15: When visiting Stack Overflow, which following activities are you most interested in?  Please rank the following so the first activity is what most interests you and last is your least interested activity.\n",
            "2: What attracts you to a technology or causes you to endorse it (most to least important)?\n",
            "2: When visiting Stack Overflow, which following activities are you most interested in?  Please rank the following so the first activity is what most interests you and last is your least interested activity.\n",
            "2: What would turn you off or cause you to reject it (most to least important)?\n",
            "2: Rank the following attributes of your current professional job in technology according to those that contribute your job satisfaction so that the first is the most important, last is least important (if you just started a new job, consider the job you spent the most time at in the past year):\n",
            "3: What attracts you to a technology or causes you to endorse it (most to least important)?\n",
            "3: What would turn you off or cause you to reject it (most to least important)?\n",
            "3: Rank the following attributes of your current professional job in technology according to those that contribute your job satisfaction so that the first is the most important, last is least important (if you just started a new job, consider the job you spent the most time at in the past year):\n",
            "3: When visiting Stack Overflow, which following activities are you most interested in?  Please rank the following so the first activity is what most interests you and last is your least interested activity.\n",
            "4: Rank the following attributes of your current professional job in technology according to those that contribute your job satisfaction so that the first is the most important, last is least important (if you just started a new job, consider the job you spent the most time at in the past year):\n",
            "4: What would turn you off or cause you to reject it (most to least important)?\n",
            "4: What attracts you to a technology or causes you to endorse it (most to least important)?\n",
            "4: When visiting Stack Overflow, which following activities are you most interested in?  Please rank the following so the first activity is what most interests you and last is your least interested activity.\n",
            "5: What attracts you to a technology or causes you to endorse it (most to least important)?\n",
            "5: When visiting Stack Overflow, which following activities are you most interested in?  Please rank the following so the first activity is what most interests you and last is your least interested activity.\n",
            "5: Rank the following attributes of your current professional job in technology according to those that contribute your job satisfaction so that the first is the most important, last is least important (if you just started a new job, consider the job you spent the most time at in the past year):\n",
            "5: What would turn you off or cause you to reject it (most to least important)?\n",
            "6: Rank the following attributes of your current professional job in technology according to those that contribute your job satisfaction so that the first is the most important, last is least important (if you just started a new job, consider the job you spent the most time at in the past year):\n",
            "6: When visiting Stack Overflow, which following activities are you most interested in?  Please rank the following so the first activity is what most interests you and last is your least interested activity.\n",
            "6: What would turn you off or cause you to reject it (most to least important)?\n",
            "6: What attracts you to a technology or causes you to endorse it (most to least important)?\n",
            "7: When visiting Stack Overflow, which following activities are you most interested in?  Please rank the following so the first activity is what most interests you and last is your least interested activity.\n",
            "7: Rank the following attributes of your current professional job in technology according to those that contribute your job satisfaction so that the first is the most important, last is least important (if you just started a new job, consider the job you spent the most time at in the past year):\n",
            "7: What would turn you off or cause you to reject it (most to least important)?\n",
            "7: What attracts you to a technology or causes you to endorse it (most to least important)?\n",
            "8: What attracts you to a technology or causes you to endorse it (most to least important)?\n",
            "8: When visiting Stack Overflow, which following activities are you most interested in?  Please rank the following so the first activity is what most interests you and last is your least interested activity.\n",
            "8: What would turn you off or cause you to reject it (most to least important)?\n",
            "8: Rank the following attributes of your current professional job in technology according to those that contribute your job satisfaction so that the first is the most important, last is least important (if you just started a new job, consider the job you spent the most time at in the past year):\n",
            "9: When visiting Stack Overflow, which following activities are you most interested in?  Please rank the following so the first activity is what most interests you and last is your least interested activity.\n",
            "9: What would turn you off or cause you to reject it (most to least important)?\n",
            "9: What attracts you to a technology or causes you to endorse it (most to least important)?\n",
            "9: Rank the following attributes of your current professional job in technology according to those that contribute your job satisfaction so that the first is the most important, last is least important (if you just started a new job, consider the job you spent the most time at in the past year):\n",
            "NA: Was the developer environment or AI-enabled code editing tool you want to use not listed above?  List below, separated by a comma and a space for each, what <strong>you want to use next year</strong>.\n",
            "NA: Whether it be to solve a problem, for career growth or connecting with a community of developers, is there an alternative to the Q&amp;A format you prefer using today or would like to see on Stack Overflow to get what you need? Select all that apply.\n",
            "NA: How frequently would you say you participate in Q&amp;A on Stack Overflow? By participate we mean ask, answer, and vote or comment on questions.\n",
            "NA: How long have you used Stack Overflow?\n",
            "NA: How frequently would you say you visit Stack Overflow?\n",
            "NA: Do you have a Stack Overflow account?\n",
            "NA: Was the LLM model for AI tools you want to use not listed above?  List below, separated by a comma and a space for each, what <strong>you want to use next year</strong>.\n",
            "NA: Was the LLM model for AI tools you use not listed above?  List below, separated by a comma and a space for each, what <strong>you used in the past year</strong>.\n",
            "NA: Which <b>LLM models for AI tools</b> have you used for development work in the past year, and which would you like to use next year?  Select all that apply.\n",
            "NA: Did you utilize or integrate specific Large Language Models (LLMs) to power your development tools or applications in the last year?  Here, we are referring to models like GPT-4, Llama, Claude, etc., within your development environments or solutions.\n",
            "NA: Was the community platform you use not listed above?  List below, separated by a comma and a space for each, what you used in the past year.\n",
            "NA: Which <b>community platforms</b> have you utilized considerably or consistently in the past year, and which would you like to use next year?  Select all that apply.\n",
            "NA: Was the collaborative work management and/or code documentation tools you want to use not listed above?  List below, separated by a comma and a space for each, what you used in the past year.\n",
            "NA: Was the collaborative work management and/or code documentation tools you use not listed above?  List below, separated by a comma and a space for each, what you used in the past year.\n",
            "NA: Which <b>collaborative work management and/or code documentation tools</b> did you use regularly over the past year, and which do you want to work with over the next year? Select all that apply\n",
            "NA: What is the primary <b>operating system</b> in which you work? \n",
            "NA: Was the new tag on Stack Overflow (i.e. added in the last 2 - 3 years) you want to use not listed above?  List below, separated by a comma and a space for each, what <strong>you want to use next year</strong>.\n",
            "NA: Was the new tag on Stack Overflow (i.e. added in the last 2 - 3 years) you use not listed above?  List below, separated by a comma and a space for each, what <strong>you used in the past year</strong>.\n",
            "NA: Which rising technology of the added as <b>new tag or tag subject area on Stack Overflow</b> in the last three years <strong>have you used</strong> regularly in the past year, and which do you <strong>want to work with</strong> over the next year? Please check all that apply.<br>\n",
            " \n",
            "NA: Was the community platform you want to use not listed above?  List below, separated by a comma and a space for each, what you used in the past year.\n",
            "NA: Do you consider yourself a member of the Stack Overflow community?\n",
            "NA: Do you currently use AI tools in your development process?\n",
            "NA: How favorable is your stance on using AI tools as part of your development workflow?\n",
            "NA: Was the out-of-the-box agents, copilots or assistants you used in the past year not listed above?  Please write them below separated by a comma and space if there are more than one.\n",
            "NA: You indicated you use or develop AI agents as part of your development work.  Have you used any of the following out-of-the-box agents, copilots or assistants?\n",
            "NA: Was the tool or tools for AI agent observability, monitoring or security you used in the past year not listed above?  Please write them below separated by a comma and space if there are more than one.\n",
            "NA: You indicated you use or develop AI agents as part of your development work.  Have you used any of the following tools for AI agent observability, monitoring or security in the past year?\n",
            "NA: You indicated you use or develop AI agents as part of your development work.  Have you used any of the following tools for AI agent orchestration or agent frameworks in the past year?\n",
            "NA: Was the tool or tools for AI agent orchestration or agent frameworks you used in the past year not listed above?  Please write them below separated by a comma and space if there are more than one.\n",
            "NA: You indicated you use or develop AI agents as part of your development work.  Have you used any of the following tools for AI agent memory or data management in the past year?\n",
            "NA: To what extent do you agree with the following statements regarding AI agents?\n",
            "NA: When you visit Stack Overflow, how often is it a result of encountering issues from AI or AI-enabled tools that require extra time or effort to fix, understand, or debug?\n",
            "NA: To what extent do you agree with the following statements regarding the impact of AI agents on your work as a developer?\n",
            "NA: What industry purposes or specific tasks are you using AI agents in your development work? Select all that apply from both lists.\n",
            "NA: Have AI tools or AI agents changed how you complete development work in the past year?\n",
            "NA: Are you using AI agents in your work (development or otherwise)?  AI agents refer to autonomous software entities that can operate with minimal to no direct human intervention using artificial intelligence techniques.\n",
            "NA: In your own words, is &quot;vibe coding&quot; part of your professional development work? For this question, we define vibe coding according to the <a href=\"https://en.wikipedia.org/wiki/Vibe_coding\" target=\"_blank\">Wikipedia definition</a>, the process of generating software from LLM prompts.\n",
            "NA: When using AI tools, which of the following problems or frustrations have you encountered? Select all that apply.\n",
            "NA: Which parts of your development workflow are you currently integrating into AI or using AI tools to accomplish or plan to use AI to accomplish over the next 3 - 5 years?  Please select one for each scenario.\n",
            "NA: How well do the AI tools you use in your development workflow handle complex tasks?\n",
            "NA: How much do you trust the accuracy of the output from AI tools as part of your development workflow?\n",
            "NA:  \n",
            "NA: Was the developer environment or AI-enabled code editing tool you use not listed above?  List below, separated by a comma and a space for each, what<strong> you used in the past year</strong>.\n",
            "NA: Have you considered a career change or transitioned into a new role in the past year?\n",
            "NA: Did you work with development environments or AI-enabled code editing tools in the last year or do you plan to in the year to come?  Here, we are referring to programs like VS Code that allow you to write, edit and save code easily and help you share code with other developers or AI agents.\n",
            "NA: How satisfied are you in your current professional developer role?\n",
            "NA: What industry do you work for in?\n",
            "NA: When you&rsquo;re in a position to <strong>influence or endorse a technology</strong>, whether at work, for school, or for a personal project you&rsquo;re responsible for, what features or attributes matter most when deciding to support a tool? What factors would be deal-breakers?<br />\n",
            "<br />\n",
            "First, select the context (work, school, personal project).  Then, rank the following features in order of importance.​​​​​​\n",
            "NA: Have you <strong>influenced or endorsed</strong> a new technology purchase at your organization or sole proprietor job in the past year?\n",
            "NA: Which best describes your current work situation?\n",
            "NA: Are you an individual contributor or people manager?\n",
            "NA: Approximately how many people are employed by your employer?  This should only include your primary company, and if there was more than one employer please consider the one you spent most of your time working for in the past year.\n",
            "NA: Which of the following describes your current job or the job you had for the most time in the past year?\n",
            "NA: Including any education, how many years have you been coding in total?  Please round to the nearest whole number, excluding any decimal points.\n",
            "NA: How did you learn to code for AI in the past year? Select all that apply.\n",
            "NA: Did you spend time in the last year learning AI programming or AI-enabled tooling on your own or at work?\n",
            "NA: How did you learn to code in the past year? Select all that apply.\n",
            "NA: Did you begin learning to code or learn a new coding skill/programming language in the last year?\n",
            "NA: How many years of professional work experience do you have? Please round to the nearest whole number, excluding any decimal points.  If your answer is '0', please leave blank.\n",
            "NA: Which of the following <strong>additional</strong> activities are you currently engaged in?\n",
            "NA: Which of the following best describes your current employment status?<br>\n",
            "NA: Which of the following best describes the highest level of formal education that you’ve completed? \n",
            "NA: What is your age?\n",
            "NA: Are you someone who writes code? Please select one of the following options that best describes you today.\n",
            "NA: Do you believe AI is a threat to your current job?\n",
            "NA: Which <strong>development environments and AI-enabled code editing tools</strong> did you use regularly over the past year, and which do you want to work with over the next year? Please check all that apply.\n",
            "NA: In the future, if AI can do most coding tasks, in which situations would you still want to ask another person for help? Select all that apply.\n",
            "NA: <b></b>For your <b>side projects or other personal work</b> over the past year (focus on the project you spent the most time on if applicable):\n",
            "<br><br>Excluding general operating systems and web browsers, how many <b>distinct software applications or platforms</b> did you regularly use to do your job? Please enter a whole number below with no punctuation, or leave blank.\n",
            "NA: Were the web frameworks and web technologies you want to use not listed above?  List below, separated by a comma and a space for each, the what <strong>you want to use next year</strong>.\n",
            "NA: Were the web frameworks and web technologies you use not listed above?  List below, separated by a comma and a space for each, what <strong>you used in the past year</strong>.\n",
            "NA: Which <b>web frameworks and web technologies</b> have you done extensive development work in over the past year, and which do you want to work in over the next year? (If you both worked with the framework and want to continue to do so, please check both boxes in that row.)\n",
            "NA: Did you work with web frameworks and web technologies in the last year or do you plan to in the year to come?  Here, we are referring to technology that helps website and web apps materialize.\n",
            "NA: Was the cloud platforms, containerization/orchestration tools, package managers, build tools, and infrastructure as code solutions you want to use not listed above?  List below, separated by a comma and a space for each, what<strong>you want to use next year</strong>.\n",
            "NA: Was the cloud platforms, containerization/orchestration tools, package managers, build tools, and infrastructure as code solutions you use not listed above?  List below, separated by a comma and a space for each, what <strong>you used in the past year</strong>.\n",
            "NA: Which <b>cloud platforms, containerization/orchestration tools, package managers, build tools, and infrastructure as code solutions</b> have you done extensive development work in over the past year, and which do you want to work in over the next year? (If you both worked with the platform and want to continue to do so, please check both boxes in that row.)\n",
            "NA: Did you work with cloud platforms, containerization/orchestration tools, package managers, build tools or infrastructure as code solutions in the last year or do you plan to in the year to come?  Here, we are referring to tooling that automates, manages, and scales the entire application lifecycle, often leveraging remote, virtualized resources.\n",
            "NA: Was the database environment you want to use not listed above? List below, separated by a comma and a space for each, what <strong>you want to use next year</strong>.\n",
            "NA: Was the database environment you use not listed above?  List below, separated by a comma and a space for each, what <strong>you used in the past year</strong>.\n",
            "NA: Which <b>database environments </b>have you done extensive development work in over the past year, and which do you want to work in over the next year? (If you both worked with the database and want to continue to do so, please check both boxes in that row.)\n",
            "NA: Did you work with database environments in the last year or do you plan to in the year to come?  Here, we are referring to a system of managing structured data, mostly outside of your local machine.\n",
            "NA: Was the programming language you want to use not listed above? List below, separated by a comma and a space for each, the programming language(s) <strong>you want to use next year</strong>.\n",
            "NA: Was the programming language you use not listed above?  List below, separated by a comma and a space for each, the programming language(s) <strong>you used in the past year</strong>.\n",
            "NA: Which <b>programming, scripting, and markup languages</b> have you done extensive development work in over the past year, and which do you want to work in over the next year? (If you both worked with the language and want to continue to do so, please check both boxes in that row.)\n",
            "NA: Did you work with programming, scripting and markup languages in the last year or do you plan to in the year to come?  Here, we are referring to anything you use that is conventionally referred to as code.\n",
            "NA: What is your current total <b>annual</b> compensation (salary, bonuses, and perks, before taxes and deductions) in terms of your day-to-day currency?  Please enter a whole number in the box below, without any punctuation.  If you are paid hourly, please estimate an equivalent yearly salary. If you prefer not to answer, please leave the box empty. \n",
            "NA: Which currency do you use day-to-day? If your answer is complicated, please pick the one you're most comfortable estimating in.\n",
            "NA: Where do you live?\n",
            "NA: For your <b>primary work role</b> (student, developer, or technologist) over the past year:\n",
            "<br><br>Excluding general operating systems (like Windows or macOS) and web browsers, <b>how many distinct software applications or platforms</b> did you regularly use to create, analyze, manage, or share information in order to do your job?\n",
            "\n",
            "Please enter a whole number below with no punctuation, or leave blank.\n",
            "NA: Looking ahead 3–5 years, what skills do you believe will remain valuable for developers even as AI tools become more capable? Please describe.\n"
          ]
        },
        {
          "output_type": "stream",
          "name": "stderr",
          "text": [
            "/tmp/ipython-input-894442910.py:29: FutureWarning: errors='ignore' is deprecated and will raise in a future version. Use to_numeric without passing `errors` and catch exceptions explicitly instead\n",
            "  .sort_values(question_id_col, key=lambda x: pd.to_numeric(x, errors=\"ignore\"))\n"
          ]
        }
      ],
      "source": [
        "import pandas as pd\n",
        "\n",
        "# Load schema and clean up column headers\n",
        "schema = pd.DataFrame(reader.get_schema())\n",
        "schema.columns = [\n",
        "    str(col).strip().strip('\"').strip(\"'\").lstrip('\\ufeff')\n",
        "    for col in schema.columns\n",
        "]\n",
        "\n",
        "# Build a case-insensitive column lookup\n",
        "column_map = {col.lower(): col for col in schema.columns}\n",
        "\n",
        "# Try to find the question ID column\n",
        "id_options = [\"qid\", \"sq_id\", \"id\"]\n",
        "question_id_col = next((column_map[opt] for opt in id_options if opt in column_map), None)\n",
        "\n",
        "# Try to find the question text column\n",
        "text_options = [\"questiontext\", \"question\", \"text\", \"questionlabel\", \"label\", \"prompt\", \"qname\"]\n",
        "question_text_col = next((column_map[opt] for opt in text_options if opt in column_map), None)\n",
        "\n",
        "if not question_id_col or not question_text_col:\n",
        "    raise ValueError(f\"Missing required columns. Available: {list(schema.columns)}\")\n",
        "\n",
        "# Extract and clean the questions\n",
        "questions = (\n",
        "    schema[[question_id_col, question_text_col]]\n",
        "    .dropna()\n",
        "    .drop_duplicates()\n",
        "    .sort_values(question_id_col, key=lambda x: pd.to_numeric(x, errors=\"ignore\"))\n",
        ")\n",
        "\n",
        "print(f\"Total questions: {len(questions)}\")\n",
        "for question_id, question_text in questions.itertuples(index=False):\n",
        "    print(f\"{question_id}: {question_text}\")"
      ]
    },
    {
      "cell_type": "markdown",
      "metadata": {
        "id": "jrDCKdZLc0xv"
      },
      "source": [
        "2. Which age range has the most responses in the survey?"
      ]
    },
    {
      "cell_type": "code",
      "execution_count": 42,
      "metadata": {
        "colab": {
          "base_uri": "https://localhost:8080/"
        },
        "id": "ZENLCO-Wc0xv",
        "outputId": "a6abd436-ca2c-4f9a-a847-c3e9add8474f"
      },
      "outputs": [
        {
          "output_type": "stream",
          "name": "stdout",
          "text": [
            "Age column: Age\n",
            "Most common age range: 25-34 years old (16485 responses)\n"
          ]
        }
      ],
      "source": [
        "import os\n",
        "import subprocess\n",
        "import tempfile\n",
        "import shutil\n",
        "import pandas as pd\n",
        "\n",
        "SCHEMA_FILE = \"/survey_results_schema.csv\"\n",
        "DATA_FILE = \"/survey_results_public_cleaned.csv\"\n",
        "\n",
        "def is_lfs_pointer(filepath):\n",
        "    with open(filepath, \"r\", encoding=\"utf-8\", errors=\"ignore\") as f:\n",
        "        return \"git-lfs.github.com/spec/v1\" in f.read(200)\n",
        "\n",
        "# Pull actual files from Git LFS if needed\n",
        "if not os.path.exists(DATA_FILE) or is_lfs_pointer(DATA_FILE):\n",
        "    working_dir = tempfile.mkdtemp()\n",
        "\n",
        "    subprocess.run([\"apt-get\", \"update\", \"-qq\"], check=True)\n",
        "    subprocess.run([\"apt-get\", \"install\", \"-y\", \"git-lfs\"], check=True)\n",
        "    subprocess.run([\"git\", \"clone\", \"https://github.com/MarshallWace/warwick-25.git\", working_dir], check=True)\n",
        "    subprocess.run([\"git\", \"-C\", working_dir, \"lfs\", \"install\"], check=True)\n",
        "    subprocess.run([\"git\", \"-C\", working_dir, \"lfs\", \"pull\"], check=True)\n",
        "    subprocess.run([\"git\", \"-C\", working_dir, \"lfs\", \"checkout\"], check=True)\n",
        "\n",
        "    data_source = os.path.join(working_dir, \"stack-overflow-developer-survey-2025\", \"survey_results_public_cleaned.csv\")\n",
        "    schema_source = os.path.join(working_dir, \"stack-overflow-developer-survey-2025\", \"survey_results_schema.csv\")\n",
        "\n",
        "    shutil.copyfile(data_source, DATA_FILE)\n",
        "    shutil.copyfile(schema_source, SCHEMA_FILE)\n",
        "\n",
        "# Find the most common age range\n",
        "survey_data = pd.read_csv(DATA_FILE, low_memory=False)\n",
        "\n",
        "age_candidates = [col for col in survey_data.columns\n",
        "                  if col.lower() in {\"age\", \"agerange\", \"agegroup\", \"age_bracket\"}\n",
        "                  or \"age\" in col.lower()]\n",
        "\n",
        "if not age_candidates:\n",
        "    raise KeyError(f\"No age column found. Available columns: {list(survey_data.columns)[:20]}\")\n",
        "\n",
        "age_column = age_candidates[0]\n",
        "age_counts = survey_data[age_column].replace({\"\": pd.NA}).dropna().value_counts()\n",
        "\n",
        "print(f\"Age column: {age_column}\")\n",
        "print(f\"Most common age range: {age_counts.index[0]} ({int(age_counts.iloc[0])} responses)\")"
      ]
    },
    {
      "cell_type": "markdown",
      "metadata": {
        "id": "-Dhqsw8_c0xv"
      },
      "source": [
        "3. How many survey respondents do we know definitely work for a company larger than Marshall Wace? (Feel free to ask one of us if you don't know how large Marshall Wace is!)"
      ]
    },
    {
      "cell_type": "code",
      "execution_count": 44,
      "metadata": {
        "colab": {
          "base_uri": "https://localhost:8080/"
        },
        "id": "3uiwW4eKc0xv",
        "outputId": "f70ce16b-c60b-43e9-8081-3ff79a1a810b"
      },
      "outputs": [
        {
          "output_type": "stream",
          "name": "stdout",
          "text": [
            "Column: OrgSize\n",
            "Larger than 800 employees: 10715\n"
          ]
        }
      ],
      "source": [
        "import os\n",
        "import re\n",
        "import tempfile\n",
        "import shutil\n",
        "import subprocess\n",
        "import pandas as pd\n",
        "\n",
        "SCHEMA_FILE = \"/survey_results_schema.csv\"\n",
        "DATA_FILE = \"/survey_results_public_cleaned.csv\"\n",
        "REPO_URL = \"https://github.com/MarshallWace/warwick-25.git\"\n",
        "SURVEY_FOLDER = \"stack-overflow-developer-survey-2025\"\n",
        "EMPLOYEE_THRESHOLD = 800\n",
        "\n",
        "def is_lfs_pointer(filepath):\n",
        "    try:\n",
        "        with open(filepath, \"r\", encoding=\"utf-8\", errors=\"ignore\") as f:\n",
        "            return \"git-lfs.github.com/spec/v1\" in f.read(200)\n",
        "    except FileNotFoundError:\n",
        "        return True\n",
        "\n",
        "# Download actual survey files if we only have LFS pointers\n",
        "if is_lfs_pointer(DATA_FILE) or is_lfs_pointer(SCHEMA_FILE):\n",
        "    subprocess.run([\"apt-get\", \"update\", \"-qq\"], check=True)\n",
        "    subprocess.run([\"apt-get\", \"install\", \"-y\", \"git-lfs\"], check=True)\n",
        "\n",
        "    clone_directory = tempfile.mkdtemp()\n",
        "    subprocess.run([\"git\", \"clone\", REPO_URL, clone_directory], check=True)\n",
        "    subprocess.run([\"git\", \"-C\", clone_directory, \"lfs\", \"install\"], check=True)\n",
        "    subprocess.run([\"git\", \"-C\", clone_directory, \"lfs\", \"pull\"], check=True)\n",
        "    subprocess.run([\"git\", \"-C\", clone_directory, \"lfs\", \"checkout\"], check=True)\n",
        "\n",
        "    survey_data_source = os.path.join(clone_directory, SURVEY_FOLDER, \"survey_results_public_cleaned.csv\")\n",
        "    schema_source = os.path.join(clone_directory, SURVEY_FOLDER, \"survey_results_schema.csv\")\n",
        "\n",
        "    shutil.copyfile(survey_data_source, DATA_FILE)\n",
        "    shutil.copyfile(schema_source, SCHEMA_FILE)\n",
        "\n",
        "survey_data = pd.read_csv(DATA_FILE, low_memory=False)\n",
        "schema = pd.read_csv(SCHEMA_FILE)\n",
        "\n",
        "# Look for company size column\n",
        "size_column_candidates = [\n",
        "    col for col in survey_data.columns\n",
        "    if re.search(r'(org|company).*size|employees', col, flags=re.I)\n",
        "]\n",
        "\n",
        "# Fall back to searching the schema if we didn't find it\n",
        "if not size_column_candidates:\n",
        "    schema.columns = [str(col).strip().strip('\"').strip(\"'\").lstrip(\"\\ufeff\") for col in schema.columns]\n",
        "    column_lookup = {col.lower(): col for col in schema.columns}\n",
        "\n",
        "    question_name_col = column_lookup.get(\"qname\")\n",
        "    question_text_col = column_lookup.get(\"question\", column_lookup.get(\"questiontext\"))\n",
        "\n",
        "    size_related_questions = []\n",
        "    if question_name_col:\n",
        "        size_related_questions += schema[question_name_col][\n",
        "            schema[question_name_col].str.contains(\"size\", case=False, na=False)\n",
        "        ].tolist()\n",
        "    if question_text_col:\n",
        "        size_related_questions += schema[question_text_col][\n",
        "            schema[question_text_col].str.contains(\"size\", case=False, na=False)\n",
        "        ].tolist()\n",
        "\n",
        "    for question in map(str, size_related_questions):\n",
        "        matching_columns = [col for col in survey_data.columns if col.lower() == question.lower()]\n",
        "        if matching_columns:\n",
        "            size_column_candidates.append(matching_columns[0])\n",
        "            break\n",
        "\n",
        "if not size_column_candidates:\n",
        "    raise KeyError(f\"No company size column found. Sample columns: {list(survey_data.columns)[:25]}\")\n",
        "\n",
        "company_size_column = size_column_candidates[0]\n",
        "\n",
        "def extract_lower_bound(value):\n",
        "    if pd.isna(value):\n",
        "        return pd.NA\n",
        "\n",
        "    text = str(value).replace(\",\", \"\").lower()\n",
        "\n",
        "    # Handle \"1000+\" or \"1000 or more\" format\n",
        "    open_ended_match = re.search(r\"(\\d+)\\s*(\\+|or more)\", text)\n",
        "    if open_ended_match:\n",
        "        return int(open_ended_match.group(1))\n",
        "\n",
        "    # Extract first number from range like \"100-500\"\n",
        "    numbers = re.findall(r\"\\d+\", text)\n",
        "    return int(numbers[0]) if numbers else pd.NA\n",
        "\n",
        "lower_bounds = survey_data[company_size_column].apply(extract_lower_bound)\n",
        "respondents_above_threshold = int((lower_bounds > EMPLOYEE_THRESHOLD).sum())\n",
        "\n",
        "print(f\"Column: {company_size_column}\")\n",
        "print(f\"Larger than {EMPLOYEE_THRESHOLD} employees: {respondents_above_threshold}\")"
      ]
    },
    {
      "cell_type": "markdown",
      "metadata": {
        "id": "ccaH6weOc0xv"
      },
      "source": [
        "4. How many survey respondents had less than 1 year of coding experience before (or outside of) coding for their profession?"
      ]
    },
    {
      "cell_type": "code",
      "execution_count": 45,
      "metadata": {
        "colab": {
          "base_uri": "https://localhost:8080/"
        },
        "id": "mLXU8zUvc0xv",
        "outputId": "b2f2c77f-0257-4594-ee4b-6c7129c46e95"
      },
      "outputs": [
        {
          "output_type": "stream",
          "name": "stdout",
          "text": [
            "Respondents with <1 year non-professional coding: 0\n"
          ]
        }
      ],
      "source": [
        "import re\n",
        "import pandas as pd\n",
        "\n",
        "SCHEMA_FILE = \"/survey_results_schema.csv\"\n",
        "DATA_FILE = \"/survey_results_public_cleaned.csv\"\n",
        "\n",
        "survey_data = pd.read_csv(DATA_FILE, low_memory=False)\n",
        "schema = pd.read_csv(SCHEMA_FILE)\n",
        "schema.columns = [str(col).strip().strip('\"').strip(\"'\").lstrip(\"\\ufeff\") for col in schema.columns]\n",
        "\n",
        "def find_column(target_name):\n",
        "    # Check schema question names first\n",
        "    matching_questions = schema[schema[\"qname\"].str.lower().eq(target_name.lower())]\n",
        "    if not matching_questions.empty:\n",
        "        question_name = matching_questions.iloc[0][\"qname\"]\n",
        "        for col in survey_data.columns:\n",
        "            if col.lower() == str(question_name).lower():\n",
        "                return col\n",
        "\n",
        "    # Fall back to direct column match\n",
        "    for col in survey_data.columns:\n",
        "        if col.lower() == target_name.lower():\n",
        "            return col\n",
        "    return None\n",
        "\n",
        "# Try to find a dedicated non-professional years column\n",
        "non_pro_column = next((\n",
        "    col for col in survey_data.columns\n",
        "    if \"year\" in col.lower() and \"code\" in col.lower()\n",
        "    and (\"before\" in col.lower() or \"outside\" in col.lower())\n",
        "), None)\n",
        "\n",
        "# Otherwise look for total and professional years columns\n",
        "total_years_column = find_column(\"YearsCode\") or next((\n",
        "    col for col in survey_data.columns\n",
        "    if \"yearscode\" in col.lower() and \"pro\" not in col.lower()\n",
        "), None)\n",
        "\n",
        "pro_years_column = find_column(\"YearsCodePro\") or next((\n",
        "    col for col in survey_data.columns\n",
        "    if \"yearscodepro\" in col.lower()\n",
        "), None)\n",
        "\n",
        "def parse_years(value):\n",
        "    if pd.isna(value):\n",
        "        return pd.NA\n",
        "\n",
        "    text = str(value).strip().lower()\n",
        "    if text in {\"\", \"na\", \"nan\"}:\n",
        "        return pd.NA\n",
        "\n",
        "    if \"less than 1\" in text or \"<1\" in text or \"under 1\" in text:\n",
        "        return 0.5\n",
        "\n",
        "    numeric_match = re.search(r\"(\\d+(\\.\\d+)?)\", text)\n",
        "    return float(numeric_match.group(1)) if numeric_match else pd.NA\n",
        "\n",
        "# Calculate non-professional experience\n",
        "if non_pro_column:\n",
        "    non_pro_years = survey_data[non_pro_column].map(parse_years)\n",
        "    beginner_count = int((non_pro_years.dropna() < 1).sum())\n",
        "else:\n",
        "    total_years = survey_data[total_years_column].map(parse_years) if total_years_column else pd.Series(pd.NA, index=survey_data.index)\n",
        "    professional_years = survey_data[pro_years_column].map(parse_years) if pro_years_column else pd.Series(pd.NA, index=survey_data.index)\n",
        "\n",
        "    has_both = total_years.notna() & professional_years.notna()\n",
        "    non_pro_years = (total_years - professional_years).where(has_both).clip(lower=0)\n",
        "\n",
        "    from_subtraction = (non_pro_years < 1).sum()\n",
        "    from_total_only = (total_years.notna() & professional_years.isna() & (total_years < 1)).sum()\n",
        "    beginner_count = int(from_subtraction + from_total_only)\n",
        "\n",
        "print(f\"Respondents with <1 year non-professional coding: {beginner_count}\")"
      ]
    },
    {
      "cell_type": "markdown",
      "metadata": {
        "id": "vB3W2lrPc0xv"
      },
      "source": [
        "5. Of the people who had 1 or more years of coding experience outside of coding professionally, what is the average number of years they spent coding outside of work? For simplicity, you can consider only the people who have given an exact number of years they have spent coding in both columns (i.e. excluding those with over 50 or less than 1 year)"
      ]
    },
    {
      "cell_type": "code",
      "execution_count": 46,
      "metadata": {
        "colab": {
          "base_uri": "https://localhost:8080/"
        },
        "id": "tu8QQpxtc0xv",
        "outputId": "ddc2f572-231f-40c0-ae9d-0cdf54cec90a"
      },
      "outputs": [
        {
          "output_type": "stream",
          "name": "stdout",
          "text": [
            "Rows used: 30832\n",
            "Average years outside work: 5.83\n"
          ]
        }
      ],
      "source": [
        "# Average years coding outside work (>=1 year), exact numeric answers only\n",
        "\n",
        "df = pd.read_csv(DATA_PATH, low_memory=False)\n",
        "\n",
        "# detect columns\n",
        "total_col = next((c for c in df.columns if c.lower() == \"yearscode\"), None)\n",
        "pro_col   = next((c for c in df.columns if c.lower() in (\"yearscodepro\", \"workexp\")), None)\n",
        "if total_col is None or pro_col is None:\n",
        "    raise KeyError(f\"Missing YearsCode/WorkExp columns. Found: {list(df.columns)[:20]}\")\n",
        "\n",
        "def to_exact_years(x):\n",
        "    s = str(x).strip().lower()\n",
        "    if not s or any(k in s for k in [\"less than\", \"more than\", \"over\", \"<\", \">\", \"+\"]):\n",
        "        return pd.NA\n",
        "    return float(s) if re.fullmatch(r\"\\d+(\\.\\d+)?\", s) else pd.NA\n",
        "\n",
        "years_total = df[total_col].map(to_exact_years)\n",
        "years_pro   = df[pro_col].map(to_exact_years)\n",
        "\n",
        "mask_exact  = years_total.notna() & years_pro.notna()\n",
        "mask_range  = years_total.between(1, 50) & years_pro.between(0, 50)\n",
        "non_prof    = (years_total - years_pro).where(mask_exact & mask_range)\n",
        "\n",
        "eligible = non_prof[non_prof >= 1]\n",
        "print(f\"Rows used: {int(eligible.count())}\")\n",
        "print(f\"Average years outside work: {eligible.mean():.2f}\")\n"
      ]
    },
    {
      "cell_type": "markdown",
      "metadata": {
        "id": "DxbZpoekc0xv"
      },
      "source": [
        "6. What is the median annual total compensation of those who specified their compensation in USD"
      ]
    },
    {
      "cell_type": "code",
      "execution_count": 47,
      "metadata": {
        "colab": {
          "base_uri": "https://localhost:8080/"
        },
        "id": "PURzzeEAc0xv",
        "outputId": "a01e5a47-c035-4fd1-c17e-4428fb051303"
      },
      "outputs": [
        {
          "output_type": "stream",
          "name": "stdout",
          "text": [
            "Currency column: Currency\n",
            "Compensation column: CompTotal\n",
            "USD respondents with numeric comp: 6320\n",
            "Median annual compensation (USD): 135,000.00\n"
          ]
        }
      ],
      "source": [
        "# Median annual total compensation for respondents who specified USD\n",
        "\n",
        "df = pd.read_csv(DATA_PATH, low_memory=False)\n",
        "\n",
        "# Detect currency and compensation columns\n",
        "cur_col = next((c for c in df.columns if c.lower() in (\n",
        "    \"currency\",\"compcurrency\",\"comp_total_currency\",\"currencycode\")), None)\n",
        "if cur_col is None:\n",
        "    cur_col = next((c for c in df.columns if \"curren\" in c.lower()), None)\n",
        "\n",
        "comp_col = next((c for c in df.columns if c.lower() in (\n",
        "    \"convertedcompyearly\",\"comptotalusd\",\"comptotal\",\"compusd\",\"totalcompensation\",\"annualcompensation\",\"annualsalary\",\"salaryusd\",\"salary\")), None)\n",
        "if comp_col is None:\n",
        "    # best-effort fallback\n",
        "    comp_candidates = [c for c in df.columns if (\"comp\" in c.lower() or \"salary\" in c.lower()) and (\"year\" in c.lower() or \"total\" in c.lower())]\n",
        "    comp_col = comp_candidates[0] if comp_candidates else None\n",
        "\n",
        "if cur_col is None or comp_col is None:\n",
        "    raise KeyError(f\"Missing columns. Found sample: {list(df.columns)[:20]}\")\n",
        "\n",
        "# Filter USD rows\n",
        "cur = df[cur_col].astype(str).str.strip().str.upper()\n",
        "usd_mask = cur.isin({\"USD\",\"US DOLLAR\",\"UNITED STATES DOLLAR\",\"US DOLLARS\",\"UNITED STATES DOLLARS\"}) | cur.str.contains(r\"\\bUSD\\b\", na=False)\n",
        "\n",
        "# Numeric compensation, sensible bounds\n",
        "comp_usd = pd.to_numeric(df.loc[usd_mask, comp_col], errors=\"coerce\")\n",
        "comp_usd = comp_usd[(comp_usd > 0) & (comp_usd < 1_000_000_000)]\n",
        "\n",
        "median_usd = comp_usd.median()\n",
        "count_usd = int(comp_usd.notna().sum())\n",
        "\n",
        "print(f\"Currency column: {cur_col}\")\n",
        "print(f\"Compensation column: {comp_col}\")\n",
        "print(f\"USD respondents with numeric comp: {count_usd}\")\n",
        "print(f\"Median annual compensation (USD): {median_usd:,.2f}\")\n"
      ]
    },
    {
      "cell_type": "markdown",
      "metadata": {
        "id": "TD35xmHHc0xv"
      },
      "source": [
        "7. Which programming language has respondents with the highest annual compensation in USD? If a response lists multiple languages, you can attribute the compensation to each language in the response."
      ]
    },
    {
      "cell_type": "code",
      "execution_count": 48,
      "metadata": {
        "colab": {
          "base_uri": "https://localhost:8080/"
        },
        "id": "W6q2BKync0xv",
        "outputId": "ef2c1016-0442-4b63-d35e-699b0ad5fcc6"
      },
      "outputs": [
        {
          "output_type": "stream",
          "name": "stdout",
          "text": [
            "Language column: LanguageHaveWorkedWith\n",
            "Top by median USD comp: Ruby (102,961.00)\n",
            "Top by highest single USD comp: TypeScript (33,552,715.00)\n",
            "\n",
            "Top 10 by median:\n",
            "                         median       max  count\n",
            "Language                                        \n",
            "Ruby                    102,961 6,890,299   1550\n",
            "Erlang                  100,000 6,000,000    313\n",
            "Perl                     99,886 6,000,000    806\n",
            "Elixir                   99,194 6,371,285    615\n",
            "Scala                    96,524 6,000,000    600\n",
            "Swift                    92,000 6,000,000   1198\n",
            "Groovy                   90,362 6,000,000   1170\n",
            "Lisp                     90,000 6,000,000    459\n",
            "Go                       89,815 6,371,285   3782\n",
            "Bash/Shell (all shells)  83,531 6,371,285  11102\n"
          ]
        }
      ],
      "source": [
        "# Language with highest annual compensation in USD (attributes comp to every listed language)\n",
        "\n",
        "df = pd.read_csv(DATA_PATH, low_memory=False)\n",
        "\n",
        "# compensation in USD\n",
        "if \"ConvertedCompYearly\" in df.columns:\n",
        "    df[\"_CompUSD\"] = pd.to_numeric(df[\"ConvertedCompYearly\"], errors=\"coerce\")\n",
        "else:\n",
        "    cur_col = next((c for c in df.columns if \"curren\" in c.lower()), None)\n",
        "    comp_col = next((c for c in df.columns if (\"comp\" in c.lower() or \"salary\" in c.lower()) and (\"total\" in c.lower() or \"year\" in c.lower() or \"annual\" in c.lower() or \"usd\" in c.lower())), None)\n",
        "    if cur_col is None or comp_col is None:\n",
        "        raise KeyError(f\"Missing currency/comp columns. Sample: {list(df.columns)[:20]}\")\n",
        "    cur = df[cur_col].astype(str).str.upper()\n",
        "    usd_mask = cur.str.contains(r\"\\bUSD\\b|UNITED STATES\", na=False)\n",
        "    df = df.loc[usd_mask].copy()\n",
        "    df[\"_CompUSD\"] = pd.to_numeric(df[comp_col], errors=\"coerce\")\n",
        "\n",
        "df = df[df[\"_CompUSD\"].between(1, 1_000_000_000)]\n",
        "\n",
        "# language column\n",
        "lang_col = next((c for c in df.columns if \"language\" in c.lower() and (\"worked\" in c.lower() or \"have\" in c.lower())), None)\n",
        "if lang_col is None:\n",
        "    lang_col = next((c for c in df.columns if \"language\" in c.lower()), None)\n",
        "if lang_col is None:\n",
        "    raise KeyError(f\"Language column not found. Sample: {list(df.columns)[:20]}\")\n",
        "\n",
        "def split_langs(s):\n",
        "    if pd.isna(s): return []\n",
        "    return [p.strip() for p in re.split(r\"[;,\\|]\", str(s)) if p.strip()]\n",
        "\n",
        "exploded = (\n",
        "    df[[lang_col, \"_CompUSD\"]]\n",
        "    .assign(Language=lambda d: d[lang_col].apply(split_langs))\n",
        "    .explode(\"Language\")\n",
        "    .dropna(subset=[\"Language\"])\n",
        ")\n",
        "\n",
        "stats = (\n",
        "    exploded.groupby(\"Language\")[\"_CompUSD\"]\n",
        "    .agg(median=\"median\", max=\"max\", count=\"count\")\n",
        "    .sort_values(\"median\", ascending=False)\n",
        ")\n",
        "\n",
        "top_median_lang = stats.index[0]\n",
        "top_median_val = stats.iloc[0][\"median\"]\n",
        "top_max_lang = stats[\"max\"].idxmax()\n",
        "top_max_val = stats.loc[top_max_lang, \"max\"]\n",
        "\n",
        "print(f\"Language column: {lang_col}\")\n",
        "print(f\"Top by median USD comp: {top_median_lang} ({top_median_val:,.2f})\")\n",
        "print(f\"Top by highest single USD comp: {top_max_lang} ({top_max_val:,.2f})\")\n",
        "print(\"\\nTop 10 by median:\")\n",
        "print(stats.head(10).to_string(formatters={'median': '{:,.0f}'.format, 'max': '{:,.0f}'.format}))\n"
      ]
    },
    {
      "cell_type": "markdown",
      "metadata": {
        "id": "BApNkXzHc0xv"
      },
      "source": [
        "## Bonus Task: SurveyDataReader\n",
        "\n",
        "`SurveyDataReader` is a basic class that allows you to access the underlying survey data programmatically. The class is implemented with basic data structures and no external dependencies hence there is plenty of room for optimisation. Try to improve the speed of basic operations and add some of your own by potentially leveraging a package such as [NumPy](https://numpy.org/)."
      ]
    },
    {
      "cell_type": "code",
      "source": [
        "import pandas as pd\n",
        "import numpy as np\n",
        "from typing import List, Dict, Any, Optional, Iterable\n",
        "\n",
        "RESPONSE_ID_FIELD_NAME = \"ResponseId\"\n",
        "QUESTION_ID_FIELD_NAME = \"qid\"\n",
        "\n",
        "class SurveyDataReader:\n",
        "    \"\"\"\n",
        "    Fast survey data reader using pandas/numpy under the hood.\n",
        "\n",
        "    Compatible with original reader API:\n",
        "      get_schema(), get_data(), get_question_by_id(),\n",
        "      get_responses_for_question(), get_response_by_id()\n",
        "\n",
        "    Extra utility methods:\n",
        "      value_counts, unique, filter_equals, filter_in, rows_for,\n",
        "      groupby_agg, to_numpy, search_schema\n",
        "    \"\"\"\n",
        "\n",
        "    def __init__(self, schema_file: str, data_file: str, memory_map: bool = True):\n",
        "        # Load schema - keep everything as strings\n",
        "        self.schema = pd.read_csv(\n",
        "            schema_file,\n",
        "            dtype=str,\n",
        "            encoding=\"utf-8-sig\",\n",
        "            memory_map=memory_map,\n",
        "            engine=\"c\"\n",
        "        )\n",
        "        self.schema.columns = [col.strip().strip('\"').strip(\"'\") for col in self.schema.columns]\n",
        "\n",
        "        # Load main survey data\n",
        "        self.data = pd.read_csv(\n",
        "            data_file,\n",
        "            low_memory=False,\n",
        "            encoding=\"utf-8-sig\",\n",
        "            memory_map=memory_map,\n",
        "            engine=\"c\"\n",
        "        )\n",
        "        self.data.columns = [col.strip().strip('\"').strip(\"'\") for col in self.data.columns]\n",
        "\n",
        "        # Pre-convert to numpy arrays for faster access\n",
        "        self._columns = {col: self.data[col].to_numpy(copy=False) for col in self.data.columns}\n",
        "\n",
        "        # Build question ID lookup\n",
        "        self._question_index = {}\n",
        "        if QUESTION_ID_FIELD_NAME in self.schema.columns:\n",
        "            question_ids = self.schema[QUESTION_ID_FIELD_NAME].astype(str)\n",
        "            for i in range(len(self.schema)):\n",
        "                qid = question_ids.iat[i]\n",
        "                self._question_index[qid] = self.schema.iloc[i].to_dict()\n",
        "\n",
        "        # Build response ID lookup\n",
        "        self._response_index = {}\n",
        "        if RESPONSE_ID_FIELD_NAME in self.data.columns:\n",
        "            response_ids = self.data[RESPONSE_ID_FIELD_NAME].astype(str)\n",
        "            for i in range(len(self.data)):\n",
        "                self._response_index[response_ids.iat[i]] = i\n",
        "\n",
        "        # For optional column indexes (built on demand)\n",
        "        self._column_indexes = {}\n",
        "\n",
        "    # Original API methods\n",
        "\n",
        "    def _parse_schema(self, _: str) -> List[Dict[str, str]]:\n",
        "        # Legacy compatibility\n",
        "        return self.get_schema()\n",
        "\n",
        "    def _parse_data(self, _: str) -> List[Dict[str, Any]]:\n",
        "        return self.get_data()\n",
        "\n",
        "    def get_schema(self) -> List[Dict[str, str]]:\n",
        "        return self.schema.to_dict(\"records\")\n",
        "\n",
        "    def get_data(self) -> List[Dict[str, Any]]:\n",
        "        return self.data.to_dict(\"records\")\n",
        "\n",
        "    def get_question_by_id(self, qid: str) -> Optional[Dict[str, str]]:\n",
        "        return self._question_index.get(str(qid))\n",
        "\n",
        "    def get_responses_for_question(self, qname: str) -> List[Any]:\n",
        "        column = self._find_column(qname)\n",
        "        if column is None:\n",
        "            return []\n",
        "        return self._columns[column].tolist()\n",
        "\n",
        "    def get_response_by_id(self, response_id: str | int) -> Optional[Dict[str, Any]]:\n",
        "        if not self._response_index:\n",
        "            return None\n",
        "        row_index = self._response_index.get(str(response_id))\n",
        "        if row_index is None:\n",
        "            return None\n",
        "        return self.data.iloc[int(row_index)].to_dict()\n",
        "\n",
        "    # Utility methods\n",
        "\n",
        "    def value_counts(self, col: str, top: Optional[int] = None, normalise: bool = False) -> pd.Series:\n",
        "        actual_column = self._get_column(col)\n",
        "        counts = self.data[actual_column].value_counts(dropna=True, normalize=normalise)\n",
        "        return counts.head(top) if top else counts\n",
        "\n",
        "    def unique(self, col: str) -> np.ndarray:\n",
        "        actual_column = self._get_column(col)\n",
        "        return pd.unique(self._columns[actual_column])\n",
        "\n",
        "    def filter_equals(self, col: str, value: Any, as_df: bool = True):\n",
        "        actual_column = self._get_column(col)\n",
        "        matches = self._columns[actual_column] == value\n",
        "        result = self.data.loc[matches]\n",
        "        return result if as_df else result.to_dict(\"records\")\n",
        "\n",
        "    def filter_in(self, col: str, values: Iterable[Any], as_df: bool = True):\n",
        "        actual_column = self._get_column(col)\n",
        "        result = self.data[self.data[actual_column].isin(values)]\n",
        "        return result if as_df else result.to_dict(\"records\")\n",
        "\n",
        "    def make_index(self, col: str) -> None:\n",
        "        \"\"\"Build an inverted index for faster lookups on this column.\"\"\"\n",
        "        actual_column = self._get_column(col)\n",
        "        index = {}\n",
        "        values = self._columns[actual_column]\n",
        "        for row_num, val in enumerate(values):\n",
        "            if val not in index:\n",
        "                index[val] = []\n",
        "            index[val].append(row_num)\n",
        "        self._column_indexes[actual_column] = index\n",
        "\n",
        "    def rows_for(self, col: str, value: Any, as_df: bool = True):\n",
        "        \"\"\"Fast lookup using inverted index (builds one if needed).\"\"\"\n",
        "        actual_column = self._get_column(col)\n",
        "        if actual_column not in self._column_indexes:\n",
        "            self.make_index(actual_column)\n",
        "\n",
        "        row_indices = self._column_indexes[actual_column].get(value, [])\n",
        "        result = self.data.iloc[row_indices]\n",
        "        return result if as_df else result.to_dict(\"records\")\n",
        "\n",
        "    def groupby_agg(self, by: str | List[str], agg_spec: Dict[str, Any]) -> pd.DataFrame:\n",
        "        group_cols = [by] if isinstance(by, str) else by\n",
        "        return self.data.groupby(group_cols).agg(agg_spec).reset_index()\n",
        "\n",
        "    def to_numpy(self, col: str) -> np.ndarray:\n",
        "        actual_column = self._get_column(col)\n",
        "        return self._columns[actual_column]\n",
        "\n",
        "    def search_schema(self, text: str) -> pd.DataFrame:\n",
        "        \"\"\"Search for text across all schema columns.\"\"\"\n",
        "        search_term = str(text).lower()\n",
        "        matching_rows = []\n",
        "\n",
        "        for col in self.schema.columns:\n",
        "            if self.schema[col].dtype == object:\n",
        "                col_matches = self.schema[col].astype(str).str.lower().str.contains(search_term, na=False)\n",
        "                matching_rows.append(col_matches)\n",
        "\n",
        "        if not matching_rows:\n",
        "            return self.schema.iloc[:0].copy()\n",
        "\n",
        "        combined_mask = np.logical_or.reduce(matching_rows)\n",
        "        return self.schema.loc[combined_mask].copy()\n",
        "\n",
        "    # Internal helpers\n",
        "\n",
        "    def _find_column(self, name: str) -> Optional[str]:\n",
        "        \"\"\"Find column by exact or case-insensitive match.\"\"\"\n",
        "        if name in self.data.columns:\n",
        "            return name\n",
        "\n",
        "        lowercase_name = name.lower()\n",
        "        for col in self.data.columns:\n",
        "            if col.lower() == lowercase_name:\n",
        "                return col\n",
        "        return None\n",
        "\n",
        "    def _get_column(self, name: str) -> str:\n",
        "        \"\"\"Like _find_column but raises if not found.\"\"\"\n",
        "        column = self._find_column(name)\n",
        "        if column is None:\n",
        "            raise KeyError(f\"Column not found: {name}\")\n",
        "        return column"
      ],
      "metadata": {
        "id": "VOIlv9x7nyWG"
      },
      "execution_count": 49,
      "outputs": []
    }
  ],
  "metadata": {
    "kernelspec": {
      "display_name": "Python 3",
      "language": "python",
      "name": "python3"
    },
    "language_info": {
      "codemirror_mode": {
        "name": "ipython",
        "version": 3
      },
      "file_extension": ".py",
      "mimetype": "text/x-python",
      "name": "python",
      "nbconvert_exporter": "python",
      "pygments_lexer": "ipython3",
      "version": "3.11.0"
    },
    "colab": {
      "provenance": []
    }
  },
  "nbformat": 4,
  "nbformat_minor": 0
}